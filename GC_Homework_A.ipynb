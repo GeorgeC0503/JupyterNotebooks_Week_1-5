{
  "nbformat": 4,
  "nbformat_minor": 0,
  "metadata": {
    "kernelspec": {
      "display_name": "Python 3",
      "language": "python",
      "name": "python3"
    },
    "language_info": {
      "codemirror_mode": {
        "name": "ipython",
        "version": 3
      },
      "file_extension": ".py",
      "mimetype": "text/x-python",
      "name": "python",
      "nbconvert_exporter": "python",
      "pygments_lexer": "ipython3",
      "version": "3.7.1"
    },
    "colab": {
      "name": "homework_A.ipynb",
      "provenance": []
    }
  },
  "cells": [
    {
      "cell_type": "markdown",
      "metadata": {
        "id": "PpVSCv5jzvRP"
      },
      "source": [
        "# homework A: Editing and Saving a Jupyter Notebook\n",
        "\n",
        "Make sure you have worked through workbook A"
      ]
    },
    {
      "cell_type": "code",
      "metadata": {
        "id": "qdw1PhFuzvRY"
      },
      "source": [
        "# Instruction: edit this cell \n",
        "# replacing George Cave with your name on your next line\n",
        "print('This line will print my name! My name is George Cave')"
      ],
      "execution_count": null,
      "outputs": []
    },
    {
      "cell_type": "markdown",
      "metadata": {
        "id": "VPPJ0LYNzvRb"
      },
      "source": [
        "> ###  saving your work\n",
        ">\n",
        "> As you work through the work book it is important to regularly save your work. Notice that as you have made  changes the Jupyter window top line will warn you there are `(unsaved changes)` in small text. To save your work in this notebook by either select menu item `File` `Save` or by hit the save button:\n",
        "> \n",
        "> ![Jupyter Notebook Save Button|](https://aru-bioinf-ibds.github.io./images/save_button.png)\n",
        ">\n",
        "> \n",
        "> ### Reminder: getting help \n",
        "> Please see the page:\n",
        "> [Help with programming](https://canvas.anglia.ac.uk/courses/12178/pages/help-with-programming)\n",
        "> on ARU Canvas."
      ]
    },
    {
      "cell_type": "markdown",
      "metadata": {
        "id": "hJIFPR2ZzvRd"
      },
      "source": [
        "## Once you have completed this homework\n",
        "Please see ARU Canvas page\n",
        "[Reflection on Practical A](https://canvas.anglia.ac.uk/courses/12178/discussion_topics/104828) for what to do next."
      ]
    },
    {
      "cell_type": "code",
      "metadata": {
        "id": "G6iZpbdRzvRe"
      },
      "source": [
        ""
      ],
      "execution_count": null,
      "outputs": []
    }
  ]
}
