{
 "cells": [
  {
   "cell_type": "markdown",
   "metadata": {},
   "source": [
    "# homework E: Writing your own functions\n",
    "\n",
    "Make sure you have worked through **workbook_E.ipynb** before tackling this homework."
   ]
  },
  {
   "cell_type": "markdown",
   "metadata": {},
   "source": [
    "> ### Reminder: saving your work\n",
    ">\n",
    "> As you work through the work book it is important to regularly save your work. Notice that as you have made  changes the Jupyter window top line will warn you there are `(unsaved changes)` in small text. To save your work in this notebook by either select menu item `File` `Save` or by hit the save button:\n",
    "> \n",
    "> ![Jupyter Notebook Save Button|](https://aru-bioinf-ibds.github.io./images/save_button.png)\n",
    ">\n",
    "> \n",
    "> ### Reminder: getting help \n",
    "> Please see the page:\n",
    "> [Help with programming](https://canvas.anglia.ac.uk/courses/12178/pages/help-with-programming)\n",
    "> on ARU Canvas."
   ]
  },
  {
   "cell_type": "markdown",
   "metadata": {},
   "source": [
    "## Function for finding the percentage GC content in a DNA sequence\n",
    "As we have already seen in workbook A, DNAs with higher proportion of GC base pairs compared to AT have a higher melting temperature and parts of the genome with a higher GC content tend to code for proteins, see https://en.wikipedia.org/wiki/GC-content. \n",
    "\n",
    "Use the len() function and .count() method to find out the percentage GC content:\n",
    "\n",
    "$$\n",
    "percent_{GC} = 100*\\frac{N_G + N_C}{N_{total}}\n",
    "$$\n",
    "\n",
    "where $N_G$ is the number of G's in the sequence, $N_C$ is the number of C's in the sequence and $N_{total}$ is the total length of the sequence."
   ]
  },
  {
   "cell_type": "markdown",
   "metadata": {},
   "source": [
    "**Now it is your turn!**\n",
    "\n",
    "Write a function that returns the percentage G and C bases in a DNA given sequence.\n",
    "\n",
    "* First think what would be a good name for the function. The Python convention is\n",
    "  that function names are lower case with words separated by underscores - so lets call\n",
    "  it `percentage_gc`\n",
    "* What arguments should `percentage_gc` have?\n",
    "* What will `percentage_gc` return."
   ]
  },
  {
   "cell_type": "code",
   "execution_count": 20,
   "metadata": {},
   "outputs": [
    {
     "name": "stdout",
     "output_type": "stream",
     "text": [
      "6\n",
      "50.0\n"
     ]
    }
   ],
   "source": [
    "# Instruction: write a function thats returns the number of G and C bases in a given sequence.\n",
    "input_seq = \"GGGAAACCCTTT\"\n",
    "\n",
    "def percentage_gc(input_seq, output_perc):\n",
    "    gc_amount = input_seq.count(\"G\") + input_seq.count(\"C\")\n",
    "    print(gc_amount)\n",
    "    output_perc = (gc_amount/len(input_seq)) *100\n",
    "    \n",
    "    return output_perc\n",
    "\n",
    "print(percentage_gc(input_seq, output_perc))\n"
   ]
  },
  {
   "cell_type": "markdown",
   "metadata": {},
   "source": [
    "Now lets first review the help message for the function:"
   ]
  },
  {
   "cell_type": "code",
   "execution_count": 17,
   "metadata": {},
   "outputs": [
    {
     "name": "stdout",
     "output_type": "stream",
     "text": [
      "Help on function percentage_gc in module __main__:\n",
      "\n",
      "percentage_gc(input_seq, output_perc)\n",
      "\n"
     ]
    }
   ],
   "source": [
    "# Instruction: run this cell to see the help message for the function:\n",
    "help(percentage_gc)"
   ]
  },
  {
   "cell_type": "markdown",
   "metadata": {},
   "source": [
    "**Question:** is the help message understandable without reading the function?\n",
    "If not revise the docstring in you percentage_gc function above."
   ]
  },
  {
   "cell_type": "markdown",
   "metadata": {},
   "source": [
    "Now we need to test the `percent_gc` function works\n",
    "\n",
    "First complete this table \n",
    "\n",
    "> you will need to edit this Markdown cell to do this double click on this cell \n",
    "> and then replace the ? in the table below. When you have finished run the cell\n",
    "> with the run button above (and save your work).\n",
    "\n",
    "| **test sequence** | **Percentage GC content** |\n",
    "| ----------------- | :-----------------------: |\n",
    "| G                 | 100%     |\n",
    "| AC                |  50%     |   \n",
    "| CAT               |  33.333% |\n",
    "| C                 | 100%     |\n",
    "| A                 |   0%     |\n",
    "| AAA               |   0%     |\n",
    "| GGG               | 100%     |\n",
    "| GAC               |  66.666% |\n",
    "| GGGAAACCCTTT      |  50%     |\n",
    "\n",
    "A good way to store this data is as a list of tuples, where each tuple is (a test sequence, manually calculated %GC content):"
   ]
  },
  {
   "cell_type": "code",
   "execution_count": 31,
   "metadata": {},
   "outputs": [
    {
     "name": "stdout",
     "output_type": "stream",
     "text": [
      "test sequence G\n",
      "  expect%:100.0\n",
      " actual%: 100.0\n",
      "PASS\n",
      "\n",
      "test sequence AC\n",
      "  expect%:50.0\n",
      " actual%: 50.0\n",
      "PASS\n",
      "\n",
      "test sequence CAT\n",
      "  expect%:33.33333\n",
      " actual%: 33.33333333333333\n",
      "PASS\n",
      "\n",
      "test sequence C\n",
      "  expect%:100\n",
      " actual%: 100.0\n",
      "PASS\n",
      "\n",
      "test sequence A\n",
      "  expect%:0\n",
      " actual%: 0.0\n",
      "PASS\n",
      "\n",
      "test sequence AAA\n",
      "  expect%:0\n",
      " actual%: 0.0\n",
      "PASS\n",
      "\n",
      "test sequence GGG\n",
      "  expect%:100\n",
      " actual%: 100.0\n",
      "PASS\n",
      "\n",
      "test sequence GAC\n",
      "  expect%:6.666\n",
      " actual%: 66.66666666666666\n",
      "FAIL\n",
      "\n",
      "test sequence GGGAAACCCTTT\n",
      "  expect%:50\n",
      " actual%: 50.0\n",
      "PASS\n",
      "\n"
     ]
    }
   ],
   "source": [
    "# Idea: complete this test the percentage_gc function with \n",
    "#       the data from the completed table above.\n",
    "test_seq_percent_gc = [(\"G\", 100.),\n",
    "                       (\"AC\", 50.),\n",
    "                       (\"CAT\", 33.33333),\n",
    "                       (\"C\", 100),\n",
    "                       (\"A\", 0),\n",
    "                       (\"AAA\", 0),\n",
    "                       (\"GGG\", 100),\n",
    "                       (\"GAC\", 6.666),\n",
    "                       (\"GGGAAACCCTTT\", 50)]\n",
    "                       # complete input data from table above\n",
    "def percentage_gc(test_seq):\n",
    "    gc_amount = test_seq.count(\"G\") + test_seq.count(\"C\")\n",
    "    percent = (gc_amount/len(test_seq)) *100\n",
    "    \n",
    "    return percent\n",
    "\n",
    "for test_seq, expect_percent in test_seq_percent_gc:\n",
    "    \n",
    "    print('test sequence ' + test_seq)\n",
    "    print('  expect%:' + str(expect_percent))\n",
    "    \n",
    "    calced_percent = str(percentage_gc(test_seq))\n",
    "    \n",
    "    print(' actual%: ' + str(calced_percent))\n",
    "    \n",
    "    if round(float(expect_percent), ndigits=3) == round(float(calced_percent), ndigits=3):\n",
    "        print(\"PASS\")\n",
    "    \n",
    "    else:\n",
    "        print(\"FAIL\")\n",
    "        \n",
    "        \n",
    "    print(\"\")\n",
    "        \n",
    "                         \n",
    "          \n",
    "          \n",
    "#modify this line\n",
    "# Instruction: now compare expect_percent and actual_percent agree to 3 decimal places.\n",
    "#              If they agree print 'PASS' otherwise print 'FAIL'\n",
    "#               see Hint in next cell for comparing floating numbers\n",
    "# add lines to do comparison"
   ]
  },
  {
   "cell_type": "markdown",
   "metadata": {},
   "source": [
    "**Hint** Comparing floating numbers are exactly equal can lead to problems because of limited precision in numerical calculations. There are many ways to get around the problem (see https://stackoverflow.com/questions/5595425/what-is-the-best-way-to-compare-floats-for-almost-equality-in-python).\n",
    "\n",
    "A reasonable approach here is to use the round function to compare the numbers to 3 decimal places:"
   ]
  },
  {
   "cell_type": "code",
   "execution_count": 32,
   "metadata": {},
   "outputs": [
    {
     "name": "stdout",
     "output_type": "stream",
     "text": [
      "Help on built-in function round in module builtins:\n",
      "\n",
      "round(number, ndigits=None)\n",
      "    Round a number to a given precision in decimal digits.\n",
      "    \n",
      "    The return value is an integer if ndigits is omitted or None.  Otherwise\n",
      "    the return value has the same type as the number.  ndigits may be negative.\n",
      "\n"
     ]
    }
   ],
   "source": [
    "# Instruction run this cell to see help on the round function\n",
    "help(round)"
   ]
  },
  {
   "cell_type": "code",
   "execution_count": 25,
   "metadata": {},
   "outputs": [
    {
     "name": "stdout",
     "output_type": "stream",
     "text": [
      "b_num rounded to 2 d.p. 6.0\n",
      "the two numbers agree to 2 decimal places\n"
     ]
    }
   ],
   "source": [
    "# instruction run this example to see how round can be used to compare numbers\n",
    "a_num = 6.0\n",
    "b_num = 5.999\n",
    "print('b_num rounded to 2 d.p. ' + str(round(b_num, ndigits=2)))\n",
    "if round(a_num, ndigits=2) == round(b_num, ndigits=2):\n",
    "    print('the two numbers agree to 2 decimal places')\n",
    "else:\n",
    "    print('the two numbers do not agree to 2 d.p.')"
   ]
  },
  {
   "cell_type": "markdown",
   "metadata": {
    "collapsed": true
   },
   "source": [
    "## Predicting the melting temperature of short DNA sequences\n",
    "\n",
    "The GC content of DNA is an important property. Although DNA forms double helical structures it is\n",
    "often necessary in both biology and biotechnology to separate the two strands. One way of seperating the strands is to warm up the DNA solution so that the DNA double helix 'melts' into separate strands. \n",
    "See video: https://www.youtube.com/watch?v=OblPqlOOgew for further background. If the temperature is reduced the\n",
    "DNA will 'anneal' back to the double stranded form.\n",
    "\n",
    "DNA melting and annealing are crucial for [polymerase chain reaction (PCR)](https://www.nature.com/scitable/definition/polymerase-chain-reaction-pcr-110).\n",
    "PCR is a widely used molecular biology technique to reproduce (amplify) selected \n",
    "sections of DNA. Knowing the DNA melting temperature for given DNA sequences is\n",
    "important for PCR.\n",
    "\n",
    "For short DNA sequences it is possible to predict the DNA melting temperature (the temperature at which 50% of the DNA is double-helical and 50% is in single strands) from its sequence (from http://biotools.nubic.northwestern.edu/OligoCalc.html). For sequences less than 14 bases the:\n",
    "\n",
    "$$\n",
    "T_m = 2(N_A + N_T) + 4(N_G + N_C)\n",
    "$$\n",
    "\n",
    "where:\n",
    "* $T_m$ is the 'basic' melting temperature in $^{\\circ}C$\n",
    "* $N_A$ is the number of A's in the sequence\n",
    "* $N_T$ is the number of T's in the sequence\n",
    "* $N_G$ is the number of G's in the sequence\n",
    "* $N_C$ is the number of C's in the sequence\n",
    "\n",
    "This formula is from http://biotools.nubic.northwestern.edu/OligoCalc.html who cite Marmur,J., and Doty,P. (1962) *J Mol Biol* **5**:109-118 https://doi.org/10.1016/S0022-2836(62)80066-7\n",
    "\n",
    "You can see that as we would expect sequences of the same length with a higher GC content have a higher predicted melting temperature.\n",
    "\n",
    "Write a function basic_tm to calculate the basic melting temperature according to the equation."
   ]
  },
  {
   "cell_type": "code",
   "execution_count": 7,
   "metadata": {},
   "outputs": [],
   "source": [
    "# Instruction write a basic_tm function\n",
    "\n",
    "def basic_tm(test_seq_tm):\n",
    "    A_count = test_seq_tm.count(\"A\"or\"a\")\n",
    "    T_count = test_seq_tm.count(\"T\"or\"t\")\n",
    "    C_count = test_seq_tm.count(\"C\"or\"c\")\n",
    "    G_count = test_seq_tm.count(\"G\"or\"g\")\n",
    "    tm = (2 * (A_count + T_count) ) + (4 * (C_count + G_count) )\n",
    "    return tm "
   ]
  },
  {
   "cell_type": "markdown",
   "metadata": {},
   "source": [
    "Now lets review the help message:"
   ]
  },
  {
   "cell_type": "code",
   "execution_count": null,
   "metadata": {},
   "outputs": [],
   "source": [
    "# Instruction: run this cell to see the help message for basic_tm:\n",
    "help(basic_tm)"
   ]
  },
  {
   "cell_type": "markdown",
   "metadata": {},
   "source": [
    "**Questions:** \n",
    "* Is the help message understandable? \n",
    "* Could you use the function without reading its code?\n",
    "* Have you credited where the formula came from. \n",
    "  It is really important as a scientist to correctly cite\n",
    "  others work. \n",
    "  \n",
    "If not revise the docstring in the basic_tm above."
   ]
  },
  {
   "cell_type": "markdown",
   "metadata": {},
   "source": [
    "#### Testing the function:\n",
    "\n",
    "Does your function work as it should. We need some data to test.\n",
    "    \n",
    "Complete the following table by running the basic tm calculation for \n",
    "each sequence at http://biotools.nubic.northwestern.edu/OligoCalc.html \n",
    "\n",
    "| **test sequence**   | **Basic Tm (degrees C) from OligoCalc** |\n",
    "| -----------------   | :-------------------------------------: |\n",
    "| G                   |  4    |\n",
    "| GG                  |  8    |   \n",
    "| A                   |  ?    |\n",
    "| GA                  |  ?    |\n",
    "| *choose a sequence* |  ?    |\n",
    "| *choose a sequence* |  ?    |\n",
    "| *choose a sequence* |  ?    |\n",
    "\n",
    "The formula applies for sequences less than 14 bases. So when choosing sequences\n",
    "it would be a good idea to include two or three sequences that are 13 bases long\n",
    "with different (high, low, medium) percentage GC."
   ]
  },
  {
   "cell_type": "code",
   "execution_count": 4,
   "metadata": {},
   "outputs": [],
   "source": [
    "# create a test data list tuples pairs like we did above \n",
    "test_seq_tm = [(\"G\", 4),\n",
    "               (\"GG\", 8),\n",
    "               (\"A\", 2),\n",
    "               (\"GA\", 6),\n",
    "               (\"AGGCT\", 16),\n",
    "               (\"GCCTA\", 16),\n",
    "               (\"GGAGGCTTTCGA\", 38),\n",
    "               (\"GGAC\", 14),\n",
    "               (\"GGCGAATAACCCCTTT\", 48)]"
   ]
  },
  {
   "cell_type": "code",
   "execution_count": 48,
   "metadata": {},
   "outputs": [
    {
     "name": "stdout",
     "output_type": "stream",
     "text": [
      "Sequence:                           G\n",
      "Temperature of basic boiling point: 4\n",
      "\n",
      "Sequence:                           GG\n",
      "Temperature of basic boiling point: 8\n",
      "\n",
      "Sequence:                           A\n",
      "Temperature of basic boiling point: 2\n",
      "\n",
      "Sequence:                           GA\n",
      "Temperature of basic boiling point: 6\n",
      "\n",
      "Sequence:                           AGGCT\n",
      "Temperature of basic boiling point: 16\n",
      "\n",
      "Sequence:                           GCCTA\n",
      "Temperature of basic boiling point: 16\n",
      "\n",
      "Sequence:                           GGAGGCTTTCGA\n",
      "Temperature of basic boiling point: 38\n",
      "\n",
      "Sequence:                           GGAC\n",
      "Temperature of basic boiling point: 14\n",
      "\n",
      "Sequence:                           GGCGAATAACCCCTTT\n",
      "Temperature of basic boiling point: 48\n",
      "\n"
     ]
    }
   ],
   "source": [
    "# now test your function with test_seq_basic_tm\n",
    "for sequence, expect_tm in test_seq_tm:\n",
    "    print(\"Sequence:\",\" \"*25,sequence)\n",
    "    print(\"Temperature of basic boiling point:\",basic_tm(test_seq_tm))\n",
    "    print(\"\")\n",
    "    \n",
    "# FIRST cut and paste and adapt code from the example above"
   ]
  },
  {
   "cell_type": "code",
   "execution_count": null,
   "metadata": {},
   "outputs": [],
   "source": [
    "# Advanced programmers only! Avoid code duplication \n",
    "# in the testing by writing a function  that can test\n",
    "# both percentage_gc and basic_tm functions against the\n",
    "# appropriate test data set."
   ]
  },
  {
   "cell_type": "markdown",
   "metadata": {},
   "source": [
    "### Dealing with longer sequences\n",
    "\n",
    "Returning to the prediction of the DNA melting temperature. The formula:\n",
    "\n",
    "$$\n",
    "T_m = 2(N_A + N_T) + 4(N_G + N_C)\n",
    "$$\n",
    "\n",
    "only applies for sequences that are shorter than 14 nucleotide. \n",
    "For sequences of 14 nucleotides and longer the OligoCalc Tool\n",
    "http://biotools.nubic.northwestern.edu/OligoCalc.html \n",
    "uses the equation:\n",
    "\n",
    "$$\n",
    "T_m= 64.9 +41*\\frac{N_G + N_C - 16.4}{N_A + N_T + N_G + N_C}\n",
    "$$\n",
    "\n",
    "This equation is taken from\n",
    "Sambrook,J., and Russell,D.W. (2001) Molecular Cloning: A Laboratory Manual. Cold Spring Harbor Laboratory Press; Cold Spring Harbor, NY. [CHSL Press](http://www.molecularcloning.com/)."
   ]
  },
  {
   "cell_type": "markdown",
   "metadata": {},
   "source": [
    "First extend your test set to include sequences of 14 bases and upwards:\n",
    "\n",
    "Complete the following table by running the basic tm calculation for \n",
    "each sequence at http://biotools.nubic.northwestern.edu/OligoCalc.html \n",
    "\n",
    "| **test sequence**   | **Basic Tm (degrees C) from OligoCalc** |\n",
    "| -----------------   | :-------------------------------------: |\n",
    "| `14*'G'`            |  57.9   |\n",
    "| `14*'A'`            |  16.9  |   \n",
    "| *choose a longer sequence* |  71.9 |\n",
    "| *choose a longer sequence* |  ?    |\n",
    "| *choose a longer sequence* |  ?    |\n",
    "\n",
    "*Note that Oligocalc quotes Basic Tm to one decimal place. It might\n",
    "have been more appropriate to round to the nearest figure to\n",
    "show users these are ball-park predictions? In any case you will\n",
    "need to take this into account in your comparisons*"
   ]
  },
  {
   "cell_type": "code",
   "execution_count": 5,
   "metadata": {},
   "outputs": [
    {
     "name": "stdout",
     "output_type": "stream",
     "text": [
      "[('G', 4), ('GG', 8), ('A', 2), ('GA', 6), ('AGGCT', 16), ('GCCTA', 16), ('GGAGGCTTTCGA', 38), ('GGAC', 14), ('GGCGAATAACCCCTTT', 48), ('GGGGGGGGGGGGGG', 57.9), ('AAAAAAAAAAAAAA', 16.9), ('GGGGGCCCCCCCAAAGGCCCCCCCAAA', 71.9), ('CCCGGGGGAATTTTTTTCCCCCCCCCTTTTTTTTTTTT', 0), ('CCCCCCCCCGGAAAAATTTTCCCCCCCCTTTTTTTTTTTTTTT', 0)]\n"
     ]
    }
   ],
   "source": [
    "# instruction append this test data to your test_data list for basic_tm function\n",
    "test_seq_tm.append((14*\"G\", 57.9))\n",
    "test_seq_tm.append((14*\"A\", 16.9))\n",
    "test_seq_tm.append((5*\"G\" + 7*\"C\" + 3*\"A\" + 2*\"G\" + 7*\"C\" + 3*\"A\", 71.9))\n",
    "test_seq_tm.append((3*\"C\" + 5*\"G\" + 2*\"A\" + 7*\"T\" + 9*\"C\" + 12*\"T\", 0))\n",
    "test_seq_tm.append((9*\"C\" + 2*\"G\" + 5*\"A\" + 4*\"T\" + 8*\"C\" + 15*\"T\", 0))\n",
    "print(test_seq_tm)"
   ]
  },
  {
   "cell_type": "code",
   "execution_count": 15,
   "metadata": {},
   "outputs": [
    {
     "name": "stdout",
     "output_type": "stream",
     "text": [
      "Faulty\n"
     ]
    }
   ],
   "source": [
    "# instruction check that the current implementation of basic_tm fails for new test data\n",
    "index_checked = 11\n",
    "\n",
    "tm_from_function = basic_tm(test_seq_tm[index_checked][0])\n",
    "expected_tm = test_seq_tm[index_checked][1]\n",
    "\n",
    "if tm_from_function == expected_tm:\n",
    "    print(\"Successful\")\n",
    "    \n",
    "else:\n",
    "    print(\"Faulty\")"
   ]
  },
  {
   "cell_type": "code",
   "execution_count": 33,
   "metadata": {},
   "outputs": [
    {
     "name": "stdout",
     "output_type": "stream",
     "text": [
      "GGGGGCCCCCCCAAAGGCCCCCCCAAA\n",
      "71.9\n"
     ]
    }
   ],
   "source": [
    "# instruction - replace basic_tm with a new implementation that deals with longer sequences\n",
    "index_checked = 11\n",
    "\n",
    "def basic_tm_large(test_seq_tm):\n",
    "    A_count = test_seq_tm.count(\"A\"or\"a\")\n",
    "    T_count = test_seq_tm.count(\"T\"or\"t\")\n",
    "    C_count = test_seq_tm.count(\"C\"or\"c\")\n",
    "    G_count = test_seq_tm.count(\"G\"or\"g\")\n",
    "    \n",
    "    decimal = ((G_count + C_count) - 16.4) / (A_count + T_count + C_count + G_count)\n",
    "    #print(decimal)\n",
    "    #print(41 + decimal)\n",
    "    tm_large = 64.9 + (41 * decimal)\n",
    "    \n",
    "    tm_large = round(float(tm_large), ndigits=1)\n",
    "    \n",
    "    return tm_large\n",
    "\n",
    "print(test_seq_tm[index_checked][0])\n",
    "\n",
    "expected_tm = test_seq_tm[index_checked][1]\n",
    "#print(expected_tm)\n",
    "    \n",
    "tm_large_result = basic_tm_large(test_seq_tm[index_checked][0])\n",
    "print(tm_large_result)"
   ]
  },
  {
   "cell_type": "code",
   "execution_count": null,
   "metadata": {},
   "outputs": [],
   "source": []
  },
  {
   "cell_type": "code",
   "execution_count": 22,
   "metadata": {},
   "outputs": [
    {
     "name": "stdout",
     "output_type": "stream",
     "text": [
      "Help on function basic_tm_large in module __main__:\n",
      "\n",
      "basic_tm_large(test_seq_tm)\n",
      "\n"
     ]
    }
   ],
   "source": [
    "# instruction - check the help message for the new implementation of basic_tm\n",
    "help(basic_tm_large)"
   ]
  },
  {
   "cell_type": "code",
   "execution_count": 34,
   "metadata": {},
   "outputs": [
    {
     "name": "stdout",
     "output_type": "stream",
     "text": [
      "Successful\n"
     ]
    }
   ],
   "source": [
    "# instruction - rerun tests and check that basic_tm works.\n",
    "if tm_large_result == expected_tm :\n",
    "    print(\"Successful\")\n",
    "    \n",
    "else:\n",
    "    print(\"Faulty\")"
   ]
  },
  {
   "cell_type": "markdown",
   "metadata": {},
   "source": [
    "## Optional: Adapting the basic_tm to deal with  ambiguous sequence X\n",
    "\n",
    "> Have a go at this if you have time.\n",
    "\n",
    "* What happens if you were presented with sequences where there was ambiguity and unknown nucleotides were marked with the code `X` ? \n",
    "* There are a number of possibilities:\n",
    "  * We could ignore the `X` completely - but is this sensible?\n",
    "  * Or we could work out the maximum basic_tm by assuming that all `X` were `G` or `C`\n",
    "  * Conversely we could find the minimum basic_tm by assuming that all `X` were `A` or `T`\n",
    "  * Or we could take a 'half-way house' that produces answers averaging the maximum and minimum.\n",
    "  \n",
    "Adapt your functions introducing an optional argument:\n",
    "```\n",
    "ambiguity='mid'\n",
    "\n",
    "# docstring description for ambiguity\n",
    "\"\"\"\n",
    "ambiguity controls how X in sequence are treated. \n",
    "If ambiguity is set to 'max' then X's in sequence are treated \n",
    "as G/C to give the maximum basic Tm. If set to 'min' then\n",
    "they are treated as A/T to give the minimum. The default 'mid'\n",
    "averages the 'max' and 'min' values.\n",
    "\"\"\"\n",
    "```"
   ]
  },
  {
   "cell_type": "code",
   "execution_count": 12,
   "metadata": {},
   "outputs": [],
   "source": [
    "# instruction - introduce the ambiguity='mid' into basic_tm \n",
    "#<--------USURE if its requesting the new basic_tm_large or the original\n",
    "\n",
    "ambiguity=\"mid\"\n",
    "\n",
    "def basic_tm(test_seq_tm):\n",
    "    A_count = test_seq_tm.count(\"A\"or\"a\")\n",
    "    T_count = test_seq_tm.count(\"T\"or\"t\")\n",
    "    C_count = test_seq_tm.count(\"C\"or\"c\")\n",
    "    G_count = test_seq_tm.count(\"G\"or\"g\")\n",
    "    X_count = test_seq_tm.count(\"X\"or\"x\")\n",
    "    \n",
    "    if ambiguity == \"mid\":\n",
    "        max_tm = (2 * (A_count + T_count) ) + (4 * (C_count + G_count + X_count) )\n",
    "        min_tm = (2 * (A_count + T_count + X_count) ) + (4 * (C_count + G_count) )\n",
    "        mean = (max_tm + min_tm) / 2\n",
    "        tm = mean\n",
    "    #elif ambiguity == \"max\":\n",
    "        #tm = (2 * (A_count + T_count) ) + (4 * (C_count + G_count + X_count) )\n",
    "        \n",
    "    #elif ambiguity == \"min\":\n",
    "        #tm = (2 * (A_count + T_count + X_count) ) + (4 * (C_count + G_count) )\n",
    "        \n",
    "    else:\n",
    "        print(\"---Invalid ambiguity paramater---\")\n",
    "    return tm "
   ]
  },
  {
   "cell_type": "code",
   "execution_count": 13,
   "metadata": {},
   "outputs": [
    {
     "name": "stdout",
     "output_type": "stream",
     "text": [
      "40.0\n"
     ]
    }
   ],
   "source": [
    "# test it (manual will do)\n",
    "print(basic_tm(\"GGATTCXGGXCC\"))"
   ]
  },
  {
   "cell_type": "markdown",
   "metadata": {},
   "source": [
    "Extend the ambiguity optional argument to have an additional value `'range'` that instead of returning a single basic_tm value returns a tuple of the minimum to maximum values."
   ]
  },
  {
   "cell_type": "code",
   "execution_count": 14,
   "metadata": {},
   "outputs": [],
   "source": [
    "# instruction - introduce the additional value 'range' for ambiguity\n",
    "\n",
    "def basic_tm_range(test_seq_tm):\n",
    "    A_count = test_seq_tm.count(\"A\"or\"a\")\n",
    "    T_count = test_seq_tm.count(\"T\"or\"t\")\n",
    "    C_count = test_seq_tm.count(\"C\"or\"c\")\n",
    "    G_count = test_seq_tm.count(\"G\"or\"g\")\n",
    "    X_count = test_seq_tm.count(\"X\"or\"x\")\n",
    "    \n",
    "\n",
    "    max_tm = (2 * (A_count + T_count) ) + (4 * (C_count + G_count + X_count) )\n",
    "    min_tm = (2 * (A_count + T_count + X_count) ) + (4 * (C_count + G_count) )\n",
    "    mean = (max_tm + min_tm) / 2\n",
    "    mid_tm = mean\n",
    "        \n",
    "        \n",
    "    output_tm_range = (max_tm, min_tm, mid_tm)\n",
    "    \n",
    "    return output_tm_range\n"
   ]
  },
  {
   "cell_type": "code",
   "execution_count": 18,
   "metadata": {},
   "outputs": [
    {
     "name": "stdout",
     "output_type": "stream",
     "text": [
      "Max  Min  Mid\n",
      "(42, 38, 40.0)\n"
     ]
    }
   ],
   "source": [
    "# test it (manual will do)\n",
    "print(\"Max\",\"\"*1,\"Min\",\"\"*1,\"Mid\")\n",
    "print(basic_tm_range(\"GGATTCXGGXCC\"))"
   ]
  },
  {
   "cell_type": "markdown",
   "metadata": {},
   "source": [
    "# Real world prediction of DNA melting temperatures using Python\n",
    "\n",
    "* For real-world prediction of DNA melting temperatures [BioPython](https://biopython.org/)\n",
    "  includes a MeltingTemp module:\n",
    "\n",
    "  http://biopython.org/DIST/docs/api/Bio.SeqUtils.MeltingTemp-module.html \n",
    "\n",
    "  that implements a wide range of algorithms for Tm prediction. \n",
    "  \n",
    "  An alternative is https://pypi.org/project/melt/\n",
    "  \n",
    "Web tools:\n",
    "* http://biotools.nubic.northwestern.edu/OligoCalc.html\n",
    "* https://www.ebi.ac.uk/biomodels-static/tools/melting/melt.php"
   ]
  },
  {
   "cell_type": "markdown",
   "metadata": {},
   "source": [
    "## Optional: Try out the BioPython MeltingTemp module\n",
    "\n",
    "This is for the keen! "
   ]
  },
  {
   "cell_type": "markdown",
   "metadata": {
    "collapsed": true
   },
   "source": [
    "> ### Reminder: saving your work\n",
    ">\n",
    "> As you work through the work book it is important to regularly save your work. Notice that as you have made  changes the Jupyter window top line will warn you there are `(unsaved changes)` in small text. To save your work in this notebook by either select menu item `File` `Save` or by hit the save button:\n",
    "> \n",
    "> ![Jupyter Notebook Save Button|](https://aru-bioinf-ibds.github.io./images/save_button.png)\n",
    ">\n",
    "> \n",
    "> ### Reminder: getting help \n",
    "> Please see the page:\n",
    "> [Help with programming](https://canvas.anglia.ac.uk/courses/12178/pages/help-with-programming)\n",
    "> on ARU Canvas."
   ]
  },
  {
   "cell_type": "markdown",
   "metadata": {},
   "source": [
    "## Once you have completed this homework, \n",
    "Please see ARU Canvas page\n",
    "[Reflection on Practical E: writing your own functions](https://canvas.anglia.ac.uk/courses/12178/discussion_topics/109556)\n",
    "for the follow up."
   ]
  },
  {
   "cell_type": "code",
   "execution_count": null,
   "metadata": {},
   "outputs": [],
   "source": []
  }
 ],
 "metadata": {
  "kernelspec": {
   "display_name": "Python 3",
   "language": "python",
   "name": "python3"
  },
  "language_info": {
   "codemirror_mode": {
    "name": "ipython",
    "version": 3
   },
   "file_extension": ".py",
   "mimetype": "text/x-python",
   "name": "python",
   "nbconvert_exporter": "python",
   "pygments_lexer": "ipython3",
   "version": "3.8.8"
  }
 },
 "nbformat": 4,
 "nbformat_minor": 2
}
