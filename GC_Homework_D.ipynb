{
 "cells": [
  {
   "cell_type": "markdown",
   "metadata": {},
   "source": [
    "# homework D: Conditional tests and loops\n",
    "\n",
    "Make sure you have worked through **workbook_D.ipynb**before tackling this homework."
   ]
  },
  {
   "cell_type": "markdown",
   "metadata": {},
   "source": [
    "> ### Reminder: saving your work\n",
    ">\n",
    "> As you work through the work book it is important to regularly save your work. Notice that as you have made  changes the Jupyter window top line will warn you there are `(unsaved changes)` in small text. To save your work in this notebook by either select menu item `File` `Save` or by hit the save button:\n",
    "> \n",
    "> ![Jupyter Notebook Save Button|](https://aru-bioinf-ibds.github.io./images/save_button.png)\n",
    ">\n",
    "> \n",
    "> ### Reminder: getting help \n",
    "> Please see the page:\n",
    "> [Help with programming](https://canvas.anglia.ac.uk/courses/12178/pages/help-with-programming)\n",
    "> on ARU Canvas."
   ]
  },
  {
   "cell_type": "markdown",
   "metadata": {
    "collapsed": true
   },
   "source": [
    "## *(i)* Using if elif else to work out the complementary base\n",
    "\n",
    "In **homework C** we worked on finding the complement of a DNA sequence:\n",
    "```\n",
    "5'-AAAATTTGGC-3'\n",
    "   ||||||||||\n",
    "3'-TTTTAAACCG-5'\n",
    "```\n",
    "The complement of the sequence `TTTTAAACCG` is shown at the bottom.\n",
    "\n",
    "Your task is now is work out the complement of a single base according to the table:\n",
    "\n",
    "| base   | complement |\n",
    "| :----: | :--------: |\n",
    "| A | T |\n",
    "| T | A |\n",
    "| G | C |\n",
    "| C | G |"
   ]
  },
  {
   "cell_type": "code",
   "execution_count": 3,
   "metadata": {},
   "outputs": [
    {
     "name": "stdout",
     "output_type": "stream",
     "text": [
      "T\n",
      "base:\"A\" has complement:\"T\"\n"
     ]
    }
   ],
   "source": [
    "# Instruction: write if elif elif elif code to work out complement for base\n",
    "\n",
    "base = 'A'  # alter this line to try different bases,\n",
    "complement = \"\"\n",
    "\n",
    "### your Python code lines with if elif ... here\n",
    "\n",
    "for i in range (len(base)): # Iteration = can be used for longer strings of bases\n",
    "    if base[i] == \"A\":\n",
    "        complement += \"T\" \n",
    "        \n",
    "    elif base[i] == \"T\":\n",
    "        complement += \"A\" \n",
    "        \n",
    "    elif base[i] == \"C\":\n",
    "        complement += \"G\" \n",
    "        \n",
    "    elif base[i] == \"G\":\n",
    "        complement += \"C\" \n",
    "\n",
    "#prints out results \n",
    "\n",
    "print('base:\"{}\" has complement:\"{}\"'.format(base, complement))"
   ]
  },
  {
   "cell_type": "markdown",
   "metadata": {},
   "source": [
    "### dealing with errors\n",
    "what should happens if the procedure is supplied with a base variable that is something other than `A`, `T`, `G` or `C`, such as `S`. \n",
    "Ideally, the program should terminate with a sensible error message letting the user know that the procedure cannot cope with the input.\n",
    "In Python the best way to deal with such errors is to *raise an exception* this causes the script to terminate with a message (unless it is coded to deal with the exception - you will learn about this latter). \n",
    "\n",
    "In this case it is appropriate to *raise* a *ValueError*"
   ]
  },
  {
   "cell_type": "code",
   "execution_count": 4,
   "metadata": {},
   "outputs": [
    {
     "ename": "ValueError",
     "evalue": "useful message to user explaining what is wrong",
     "output_type": "error",
     "traceback": [
      "\u001b[1;31m---------------------------------------------------------------------------\u001b[0m",
      "\u001b[1;31mValueError\u001b[0m                                Traceback (most recent call last)",
      "\u001b[1;32m<ipython-input-4-d82d04a01b90>\u001b[0m in \u001b[0;36m<module>\u001b[1;34m\u001b[0m\n\u001b[0;32m      1\u001b[0m \u001b[1;31m# Instruction: run this cell to see how to raise a ValueError\u001b[0m\u001b[1;33m\u001b[0m\u001b[1;33m\u001b[0m\u001b[1;33m\u001b[0m\u001b[0m\n\u001b[1;32m----> 2\u001b[1;33m \u001b[1;32mraise\u001b[0m \u001b[0mValueError\u001b[0m\u001b[1;33m(\u001b[0m\u001b[1;34m'useful message to user explaining what is wrong'\u001b[0m\u001b[1;33m)\u001b[0m\u001b[1;33m\u001b[0m\u001b[1;33m\u001b[0m\u001b[0m\n\u001b[0m",
      "\u001b[1;31mValueError\u001b[0m: useful message to user explaining what is wrong"
     ]
    }
   ],
   "source": [
    "# Instruction: run this cell to see how to raise a ValueError\n",
    "raise ValueError('useful message to user explaining what is wrong')"
   ]
  },
  {
   "cell_type": "code",
   "execution_count": 5,
   "metadata": {},
   "outputs": [
    {
     "ename": "ValueError",
     "evalue": "unrecognised bases",
     "output_type": "error",
     "traceback": [
      "\u001b[1;31m---------------------------------------------------------------------------\u001b[0m",
      "\u001b[1;31mValueError\u001b[0m                                Traceback (most recent call last)",
      "\u001b[1;32m<ipython-input-5-b9a962798055>\u001b[0m in \u001b[0;36m<module>\u001b[1;34m\u001b[0m\n\u001b[0;32m     20\u001b[0m \u001b[1;33m\u001b[0m\u001b[0m\n\u001b[0;32m     21\u001b[0m     \u001b[1;32melse\u001b[0m\u001b[1;33m:\u001b[0m\u001b[1;33m\u001b[0m\u001b[1;33m\u001b[0m\u001b[0m\n\u001b[1;32m---> 22\u001b[1;33m         \u001b[1;32mraise\u001b[0m \u001b[0mValueError\u001b[0m\u001b[1;33m(\u001b[0m\u001b[1;34m'unrecognised bases'\u001b[0m\u001b[1;33m)\u001b[0m\u001b[1;33m\u001b[0m\u001b[1;33m\u001b[0m\u001b[0m\n\u001b[0m\u001b[0;32m     23\u001b[0m \u001b[1;33m\u001b[0m\u001b[0m\n\u001b[0;32m     24\u001b[0m \u001b[0mprint\u001b[0m\u001b[1;33m(\u001b[0m\u001b[1;34m'base:\"{}\" has complement:\"{}\"'\u001b[0m\u001b[1;33m.\u001b[0m\u001b[0mformat\u001b[0m\u001b[1;33m(\u001b[0m\u001b[0mbase\u001b[0m\u001b[1;33m,\u001b[0m \u001b[0mcomplement\u001b[0m\u001b[1;33m)\u001b[0m\u001b[1;33m)\u001b[0m\u001b[1;33m\u001b[0m\u001b[1;33m\u001b[0m\u001b[0m\n",
      "\u001b[1;31mValueError\u001b[0m: unrecognised bases"
     ]
    }
   ],
   "source": [
    "# Instruction: copy your Python from above and extend it \n",
    "# to raise a ValueError for unrecognized bases.\n",
    "\n",
    "base = 'W'  # alter this line to try different bases,\n",
    "\n",
    "### your Python code lines from above.\n",
    "complement = \"\"\n",
    "for i in range (len(base)): # Iteration = can be used for longer strings of bases\n",
    "    if base[i] == \"A\":\n",
    "        complement += \"T\" \n",
    "        \n",
    "    elif base[i] == \"T\":\n",
    "        complement += \"A\" \n",
    "        \n",
    "    elif base[i] == \"C\":\n",
    "        complement += \"G\" \n",
    "        \n",
    "    elif base[i] == \"G\":\n",
    "        complement += \"C\" \n",
    "        \n",
    "    else:\n",
    "        raise ValueError('unrecognised bases')\n",
    "\n",
    "print('base:\"{}\" has complement:\"{}\"'.format(base, complement))"
   ]
  },
  {
   "cell_type": "markdown",
   "metadata": {},
   "source": [
    "## *(ii)* Reversing a string using a for loop\n",
    "\n",
    "In exercise B and homework B we saw the easy way to reverse a string is to use a special slice with an increment of minus -1:"
   ]
  },
  {
   "cell_type": "code",
   "execution_count": 2,
   "metadata": {},
   "outputs": [
    {
     "name": "stdout",
     "output_type": "stream",
     "text": [
      "example_reverse =  nmlkjihgfedcba\n"
     ]
    }
   ],
   "source": [
    "# Instruction: run this cell to see how to reverse a string \n",
    "# using string slice with increment -1\n",
    "example = 'abcdefghijklmn'\n",
    "example_reverse = example[::-1]\n",
    "print('example_reverse = ', example_reverse)"
   ]
  },
  {
   "cell_type": "markdown",
   "metadata": {},
   "source": [
    "Now lets get practice on using for loops to reverse a string.\n",
    "\n",
    "Start by looking at the next example that builds up a sequence where each base\n",
    "in the original sequence is repeated twice."
   ]
  },
  {
   "cell_type": "code",
   "execution_count": 2,
   "metadata": {},
   "outputs": [
    {
     "name": "stdout",
     "output_type": "stream",
     "text": [
      "AATTGGCC\n"
     ]
    }
   ],
   "source": [
    "# Instruction: run this cell to see how to use a for\n",
    "# loop to iterate through a string building up a resulting\n",
    "sequence = 'ATGC'  # alter this line to try different sequences,\n",
    "double_sequence = ''  # the empty string\n",
    "for base in sequence:\n",
    "    double_sequence = double_sequence + base + base\n",
    "print(double_sequence)"
   ]
  },
  {
   "cell_type": "code",
   "execution_count": 1,
   "metadata": {},
   "outputs": [
    {
     "name": "stdout",
     "output_type": "stream",
     "text": [
      "reverse_sequence: TATCGGCTATCCCCGGCTAGGCCGTA\n"
     ]
    }
   ],
   "source": [
    "# Instruction: adapt the procedure in the previous cell\n",
    "# to reverse a sequence using a for loop.\n",
    "sequence = 'ATGCCGGATCGGCCCCTATCGGCTAT'  # alter this line to try different sequences\n",
    "reverse_sequence = ''  # the empty string\n",
    "\n",
    "# your code here.\n",
    "i=0\n",
    "for base in sequence:\n",
    "    \n",
    "    i += 1\n",
    "    invert_iterator = len(sequence)-(i)\n",
    "    reverse_sequence += sequence[invert_iterator]\n",
    "\n",
    "print(\"reverse_sequence:\", reverse_sequence)"
   ]
  },
  {
   "cell_type": "markdown",
   "metadata": {},
   "source": [
    "## *(iii)* Working out the complement of a sequence using a for loop\n",
    "\n",
    "In part *(i)* of this exercise you worked out how to work out the complementary base for a given DNA base.\n",
    "\n",
    "Now reuse the code from part *(i)* to work out the complement of a given DNA sequence using a similar approach to part *(ii)*:"
   ]
  },
  {
   "cell_type": "code",
   "execution_count": 4,
   "metadata": {},
   "outputs": [
    {
     "name": "stdout",
     "output_type": "stream",
     "text": [
      "sequence:   ATGC\n",
      "complement: TACG\n"
     ]
    }
   ],
   "source": [
    "# Instruction: use the if elif elif code to work out complement\n",
    "sequence = 'ATGC'\n",
    "seq_comp = ''  # the empty string\n",
    "for base in sequence:\n",
    "    if base == \"A\":\n",
    "        seq_comp += \"T\" \n",
    "        \n",
    "    elif base == \"T\":\n",
    "        seq_comp += \"A\" \n",
    "        \n",
    "    elif base == \"C\":\n",
    "        seq_comp += \"G\" \n",
    "        \n",
    "    elif base == \"G\":\n",
    "        seq_comp += \"C\" \n",
    "        \n",
    "print('sequence:   ' + sequence)\n",
    "print('complement: ' + seq_comp)"
   ]
  },
  {
   "cell_type": "markdown",
   "metadata": {},
   "source": [
    "> *Hint: you will have to be careful of the indentation in your code - look at the following example*"
   ]
  },
  {
   "cell_type": "code",
   "execution_count": 5,
   "metadata": {},
   "outputs": [
    {
     "name": "stdout",
     "output_type": "stream",
     "text": [
      "H: consonant\n",
      "e: vowel\n",
      "l: consonant\n",
      "l: consonant\n",
      "o: vowel\n",
      ",: other\n",
      " : other\n",
      "w: consonant\n",
      "o: vowel\n",
      "r: consonant\n",
      "l: consonant\n",
      "d: consonant\n",
      ".: other\n"
     ]
    }
   ],
   "source": [
    "# Instruction: run this hint to show \n",
    "# testing letters from a string in for loop\n",
    "sentence = 'Hello, world.'\n",
    "for letter in sentence:\n",
    "    if letter in 'aeiou':\n",
    "        print(letter + ': vowel')\n",
    "    elif letter.isalpha():\n",
    "        print(letter + ': consonant')\n",
    "    else:\n",
    "        print(letter + ': other')"
   ]
  },
  {
   "cell_type": "markdown",
   "metadata": {},
   "source": [
    "## *(iv)* Working out the reverse complement of a sequence using a for loop\n",
    "\n",
    "Now combined the code you have written in parts *(ii)* and *(iii)* to work out the reverse complement.\n",
    "\n",
    "If you prefer you can use a single or two separate for loops."
   ]
  },
  {
   "cell_type": "code",
   "execution_count": 2,
   "metadata": {},
   "outputs": [
    {
     "name": "stdout",
     "output_type": "stream",
     "text": [
      "sequence:           ATGC\n",
      "reverse complement: GCAT\n"
     ]
    }
   ],
   "source": [
    "# Instruction: combine code from parts (ii)\n",
    "sequence = 'ATGC'\n",
    "comp = ''\n",
    "rev_comp = ''  # the empty string\n",
    "\n",
    "i=0\n",
    "for i in range (len(sequence)): # Iteration = can be used for longer strings of bases\n",
    "    if sequence[i] == \"A\":\n",
    "        comp += \"T\" \n",
    "        \n",
    "    elif sequence[i] == \"T\":\n",
    "        comp += \"A\" \n",
    "        \n",
    "    elif sequence[i] == \"C\":\n",
    "        comp += \"G\" \n",
    "        \n",
    "    elif sequence[i] == \"G\":\n",
    "        comp += \"C\" \n",
    "        \n",
    "i=0\n",
    "for base in sequence:\n",
    "    \n",
    "    i += 1\n",
    "    invert_iterator = len(sequence)-(i)\n",
    "    rev_comp += comp[invert_iterator]\n",
    "    \n",
    "print('sequence:           ' + sequence)\n",
    "print('reverse complement: ' + rev_comp)"
   ]
  },
  {
   "cell_type": "markdown",
   "metadata": {},
   "source": [
    "## *(v)* finding the reverse complement of a number of sequences.\n",
    "\n",
    "Suppose instead of finding the reverse complement of a single sequence we wanted to find the reverse complement for the following list of sequences:\n",
    "\n",
    "* `T`\n",
    "* `AG`\n",
    "* `CT`\n",
    "* `AAAATTTGGC`\n",
    "* `GCCAAATTTT`\n",
    "* `CTGCTATAAAAGGCTG`\n",
    "\n",
    "Once again we can use a for loop to go through the sequences and run your procedure against each one (you will have to be careful with the identation):"
   ]
  },
  {
   "cell_type": "code",
   "execution_count": 4,
   "metadata": {},
   "outputs": [
    {
     "name": "stdout",
     "output_type": "stream",
     "text": [
      "------------------------------------------------------------------------------------------------------------------------\n",
      "sequence:           T\n",
      "reverse complement: A\n",
      "------------------------------------------------------------------------------------------------------------------------\n",
      "sequence:           AG\n",
      "reverse complement: CT\n",
      "------------------------------------------------------------------------------------------------------------------------\n",
      "sequence:           CT\n",
      "reverse complement: AG\n",
      "------------------------------------------------------------------------------------------------------------------------\n",
      "sequence:           AAAATTTGGC\n",
      "reverse complement: GCCAAATTTT\n",
      "------------------------------------------------------------------------------------------------------------------------\n",
      "sequence:           GCCAAATTTT\n",
      "reverse complement: AAAATTTGGC\n",
      "------------------------------------------------------------------------------------------------------------------------\n",
      "sequence:           CTGCTATAAAAGGCTG\n",
      "reverse complement: CAGCCTTTTATAGCAG\n"
     ]
    }
   ],
   "source": [
    "# Instruction: use your code from part (iv) to work out\n",
    "# the reverse complement for each of the sequences.\n",
    "test_seqs = ['T', 'AG', 'CT', \n",
    "             'AAAATTTGGC',\n",
    "             'GCCAAATTTT', \n",
    "             'CTGCTATAAAAGGCTG']\n",
    "for sequence in test_seqs:\n",
    "    i=0\n",
    "    comp = ''\n",
    "    for i in range (len(sequence)): # Iteration = can be used for longer strings of bases\n",
    "        if sequence[i] == \"A\":\n",
    "            comp += \"T\" \n",
    "        \n",
    "        elif sequence[i] == \"T\":\n",
    "            comp += \"A\" \n",
    "        \n",
    "        elif sequence[i] == \"C\":\n",
    "            comp += \"G\" \n",
    "        \n",
    "        elif sequence[i] == \"G\":\n",
    "            comp += \"C\" \n",
    "        i = 0\n",
    "        rev_comp = \"\"\n",
    "        for base in sequence:\n",
    "            rev_comp = comp[::-1]\n",
    " \n",
    "    print(\"-\"*120)\n",
    "    print('sequence:           ' + sequence)\n",
    "    print('reverse complement: ' + rev_comp)"
   ]
  },
  {
   "cell_type": "markdown",
   "metadata": {},
   "source": [
    "## *(vi)* testing your reverse complement procedure with a number of sequences.\n",
    "\n",
    "In programming writing code tests is very important. We will be looking at this in more depth later in this module. For now lets test your procedure against a list that of items each of which has a sequence and its reverse complement that has been worked out by hand:"
   ]
  },
  {
   "cell_type": "code",
   "execution_count": 27,
   "metadata": {},
   "outputs": [
    {
     "name": "stdout",
     "output_type": "stream",
     "text": [
      "------------------------------------------------------------------------------------------------------------------------\n",
      "test sequence: A\n",
      "given reverse complement: T\n",
      "------------------------------------------------------------------------------------------------------------------------\n",
      "test sequence: T\n",
      "given reverse complement: A\n",
      "------------------------------------------------------------------------------------------------------------------------\n",
      "test sequence: G\n",
      "given reverse complement: C\n",
      "------------------------------------------------------------------------------------------------------------------------\n",
      "test sequence: C\n",
      "given reverse complement: G\n",
      "------------------------------------------------------------------------------------------------------------------------\n",
      "test sequence: AA\n",
      "given reverse complement: TT\n",
      "------------------------------------------------------------------------------------------------------------------------\n",
      "test sequence: AT\n",
      "given reverse complement: AT\n",
      "------------------------------------------------------------------------------------------------------------------------\n",
      "test sequence: AG\n",
      "given reverse complement: CT\n",
      "------------------------------------------------------------------------------------------------------------------------\n",
      "test sequence: AC\n",
      "given reverse complement: GT\n",
      "------------------------------------------------------------------------------------------------------------------------\n",
      "test sequence: TTT\n",
      "given reverse complement: AAA\n",
      "------------------------------------------------------------------------------------------------------------------------\n",
      "test sequence: ATT\n",
      "given reverse complement: AAT\n",
      "------------------------------------------------------------------------------------------------------------------------\n",
      "test sequence: TAT\n",
      "given reverse complement: ATA\n",
      "------------------------------------------------------------------------------------------------------------------------\n",
      "test sequence: TTA\n",
      "given reverse complement: TAA\n",
      "------------------------------------------------------------------------------------------------------------------------\n",
      "test sequence: TTT\n",
      "given reverse complement: AAA\n",
      "------------------------------------------------------------------------------------------------------------------------\n",
      "test sequence: GTT\n",
      "given reverse complement: AAC\n",
      "------------------------------------------------------------------------------------------------------------------------\n",
      "test sequence: TGT\n",
      "given reverse complement: ACA\n",
      "------------------------------------------------------------------------------------------------------------------------\n",
      "test sequence: TTG\n",
      "given reverse complement: CAA\n",
      "------------------------------------------------------------------------------------------------------------------------\n",
      "test sequence: AAAATTTGGC\n",
      "given reverse complement: GCCAAATTTT\n",
      "------------------------------------------------------------------------------------------------------------------------\n",
      "test sequence: GCCAAATTTT\n",
      "given reverse complement: AAAATTTGGC\n",
      "------------------------------------------------------------------------------------------------------------------------\n",
      "test sequence: CTGCTATAAAAGGCTG\n",
      "given reverse complement: CAGCCTTTTATAGCAG\n",
      "------------------------------------------------------------------------------------------------------------------------\n",
      "test sequence: AAAAAAAAAAAAAAAAAAAAAAAAAAAAAAAAAAAAAAAAAAAAAAAAAAAAAAAAAAAAAAAAAAAAAAAAAAAAAAAAAAAAAAAAAAAAAAAAAAAAAAAAAAAAAAAAAAAAAAAAAAAAAAAAAAAAAAAAAAAAAAAAAAAAAAAAAAAAAAAAAAAAAAAAAAAAAAAAAAAAAAAAAAAAAAAAAAAAAAAAGTGTGTGTGTGTGTGTGTGTGTGTGTGTGTGTGTGTGTGTGTGTGTGTGTGTGTGTGTGTGTGTGTGTGTGTGTGTGTGTGTGTGTGTGTGTGTGTGTGTGTGTGTGTGTGTGTGTGTGTGTGTGTGTGTGTGTGTGTGTGTGTGTGTGTGTGTGTGTGTGTGTGTGTGTGTGTGTGTGTGTGTGTGTGTGTGTGTGTGT\n",
      "given reverse complement: ACACACACACACACACACACACACACACACACACACACACACACACACACACACACACACACACACACACACACACACACACACACACACACACACACACACACACACACACACACACACACACACACACACACACACACACACACACACACACACACACACACACACACACACACACACACACACACACACACACACACTTTTTTTTTTTTTTTTTTTTTTTTTTTTTTTTTTTTTTTTTTTTTTTTTTTTTTTTTTTTTTTTTTTTTTTTTTTTTTTTTTTTTTTTTTTTTTTTTTTTTTTTTTTTTTTTTTTTTTTTTTTTTTTTTTTTTTTTTTTTTTTTTTTTTTTTTTTTTTTTTTTTTTTTTTTTTTTTTTTTTTTTTTTTTTTTTTTTTTTT\n"
     ]
    }
   ],
   "source": [
    "# Instruction: run this cell to see the data you need to use in the test.\n",
    "test_seqs_and_rev_comp = [('A', 'T'), \n",
    "                          ('T', 'A'), \n",
    "                          ('G', 'C'), \n",
    "                          ('C', 'G'), \n",
    "                          ('AA', 'TT'), \n",
    "                          ('AT', 'AT'), \n",
    "                          ('AG', 'CT'), \n",
    "                          ('AC', 'GT'), \n",
    "                          ('TTT', 'AAA'), \n",
    "                          ('ATT', 'AAT'), \n",
    "                          ('TAT', 'ATA'), \n",
    "                          ('TTA', 'TAA'), \n",
    "                          ('TTT', 'AAA'), \n",
    "                          ('GTT', 'AAC'), \n",
    "                          ('TGT', 'ACA'), \n",
    "                          ('TTG', 'CAA'), \n",
    "                          ('AAAATTTGGC', 'GCCAAATTTT'), \n",
    "                          ('GCCAAATTTT', 'AAAATTTGGC'), \n",
    "                          ('CTGCTATAAAAGGCTG', 'CAGCCTTTTATAGCAG'), \n",
    "                          ( 200*'A'+ 100*'GT', 100*'AC' + 200*'T')]\n",
    "for test_seq, given_rev_comp in test_seqs_and_rev_comp:\n",
    "    print(\"-\"*120)\n",
    "    print('test sequence: ' + test_seq )\n",
    "    print('given reverse complement: ' + given_rev_comp)"
   ]
  },
  {
   "cell_type": "markdown",
   "metadata": {},
   "source": [
    "Now you should adapt the code in the next cell to test that your procedure for working out the reverse complement produces the expected result for every case."
   ]
  },
  {
   "cell_type": "code",
   "execution_count": 63,
   "metadata": {},
   "outputs": [
    {
     "name": "stdout",
     "output_type": "stream",
     "text": [
      "Test sequence: A\n",
      "Reverse_complement: T\n",
      "Checked\n",
      "----------------------------------------------------------------------------------------------------\n",
      "Test sequence: T\n",
      "Reverse_complement: A\n",
      "Checked\n",
      "----------------------------------------------------------------------------------------------------\n",
      "Test sequence: G\n",
      "Reverse_complement: C\n",
      "Checked\n",
      "----------------------------------------------------------------------------------------------------\n",
      "Test sequence: C\n",
      "Reverse_complement: G\n",
      "Checked\n",
      "----------------------------------------------------------------------------------------------------\n",
      "Test sequence: AA\n",
      "Reverse_complement: TT\n",
      "Checked\n",
      "----------------------------------------------------------------------------------------------------\n",
      "Test sequence: AT\n",
      "Reverse_complement: AT\n",
      "Checked\n",
      "----------------------------------------------------------------------------------------------------\n",
      "Test sequence: AG\n",
      "Reverse_complement: CT\n",
      "Checked\n",
      "----------------------------------------------------------------------------------------------------\n",
      "Test sequence: AC\n",
      "Reverse_complement: GT\n",
      "Checked\n",
      "----------------------------------------------------------------------------------------------------\n",
      "Test sequence: TTT\n",
      "Reverse_complement: AAA\n",
      "Checked\n",
      "----------------------------------------------------------------------------------------------------\n",
      "Test sequence: ATT\n",
      "Reverse_complement: AAT\n",
      "Checked\n",
      "----------------------------------------------------------------------------------------------------\n",
      "Test sequence: TAT\n",
      "Reverse_complement: ATA\n",
      "Checked\n",
      "----------------------------------------------------------------------------------------------------\n",
      "Test sequence: TTA\n",
      "Reverse_complement: TAA\n",
      "Checked\n",
      "----------------------------------------------------------------------------------------------------\n",
      "Test sequence: TTT\n",
      "Reverse_complement: AAA\n",
      "Checked\n",
      "----------------------------------------------------------------------------------------------------\n",
      "Test sequence: GTT\n",
      "Reverse_complement: AAC\n",
      "Checked\n",
      "----------------------------------------------------------------------------------------------------\n",
      "Test sequence: TGT\n",
      "Reverse_complement: ACA\n",
      "Checked\n",
      "----------------------------------------------------------------------------------------------------\n",
      "Test sequence: TTG\n",
      "Reverse_complement: CAA\n",
      "Checked\n",
      "----------------------------------------------------------------------------------------------------\n",
      "Test sequence: AAAATTTGGC\n",
      "Reverse_complement: GCCAAATTTT\n",
      "Checked\n",
      "----------------------------------------------------------------------------------------------------\n",
      "Test sequence: GCCAAATTTT\n",
      "Reverse_complement: AAAATTTGGC\n",
      "Checked\n",
      "----------------------------------------------------------------------------------------------------\n",
      "Test sequence: CTGCTATAAAAGGCTG\n",
      "Reverse_complement: CAGCCTTTTATAGCAG\n",
      "Checked\n",
      "----------------------------------------------------------------------------------------------------\n",
      "Test sequence: AAAAAAAAAAAAAAAAAAAAAAAAAAAAAAAAAAAAAAAAAAAAAAAAAAAAAAAAAAAAAAAAAAAAAAAAAAAAAAAAAAAAAAAAAAAAAAAAAAAAAAAAAAAAAAAAAAAAAAAAAAAAAAAAAAAAAAAAAAAAAAAAAAAAAAAAAAAAAAAAAAAAAAAAAAAAAAAAAAAAAAAAAAAAAAAAAAAAAAAAGTGTGTGTGTGTGTGTGTGTGTGTGTGTGTGTGTGTGTGTGTGTGTGTGTGTGTGTGTGTGTGTGTGTGTGTGTGTGTGTGTGTGTGTGTGTGTGTGTGTGTGTGTGTGTGTGTGTGTGTGTGTGTGTGTGTGTGTGTGTGTGTGTGTGTGTGTGTGTGTGTGTGTGTGTGTGTGTGTGTGTGTGTGTGTGTGTGTGTGT\n",
      "Reverse_complement: ACACACACACACACACACACACACACACACACACACACACACACACACACACACACACACACACACACACACACACACACACACACACACACACACACACACACACACACACACACACACACACACACACACACACACACACACACACACACACACACACACACACACACACACACACACACACACACACACACACACACTTTTTTTTTTTTTTTTTTTTTTTTTTTTTTTTTTTTTTTTTTTTTTTTTTTTTTTTTTTTTTTTTTTTTTTTTTTTTTTTTTTTTTTTTTTTTTTTTTTTTTTTTTTTTTTTTTTTTTTTTTTTTTTTTTTTTTTTTTTTTTTTTTTTTTTTTTTTTTTTTTTTTTTTTTTTTTTTTTTTTTTTTTTTTTTTTTTTTTTT\n",
      "Checked\n",
      "----------------------------------------------------------------------------------------------------\n"
     ]
    }
   ],
   "source": [
    "# Instruction: test your code from part (iv) to work out\n",
    "# the reverse complement for each of the sequences.\n",
    "test_seqs_and_rev_comp = [('A', 'T'), \n",
    "                          ('T', 'A'), \n",
    "                          ('G', 'C'), \n",
    "                          ('C', 'G'), \n",
    "                          ('AA', 'TT'), \n",
    "                          ('AT', 'AT'), \n",
    "                          ('AG', 'CT'), \n",
    "                          ('AC', 'GT'), \n",
    "                          ('TTT', 'AAA'), \n",
    "                          ('ATT', 'AAT'), \n",
    "                          ('TAT', 'ATA'), \n",
    "                          ('TTA', 'TAA'), \n",
    "                          ('TTT', 'AAA'), \n",
    "                          ('GTT', 'AAC'), \n",
    "                          ('TGT', 'ACA'), \n",
    "                          ('TTG', 'CAA'), \n",
    "                          ('AAAATTTGGC', 'GCCAAATTTT'), \n",
    "                          ('GCCAAATTTT', 'AAAATTTGGC'), \n",
    "                          ('CTGCTATAAAAGGCTG', 'CAGCCTTTTATAGCAG'), \n",
    "                          ( 200*'A'+ 100*'GT', 100*'AC' + 200*'T')]\n",
    "\n",
    "#remade cause (iv) was not going to be able to perform this\n",
    "original_index = 0\n",
    "\n",
    "for i in range(len(test_seqs_and_rev_comp)):\n",
    "    rev_comp = \"\"\n",
    "    sequence = test_seqs_and_rev_comp[i]\n",
    "    first_in_tuple = sequence[original_index]\n",
    "    print(\"Test sequence:\",first_in_tuple)\n",
    "    \n",
    "    hold_seq = \"\"\n",
    "    for character in first_in_tuple:\n",
    "        if character == \"A\":\n",
    "            hold_seq += \"T\" \n",
    "        \n",
    "        elif character == \"T\":\n",
    "            hold_seq += \"A\" \n",
    "        \n",
    "        elif character == \"C\":\n",
    "            hold_seq += \"G\" \n",
    "        \n",
    "        elif character == \"G\":\n",
    "            hold_seq += \"C\" \n",
    "    \n",
    "    rev_comp = hold_seq [::-1]\n",
    "            \n",
    "            \n",
    "    print(\"Reverse_complement:\",rev_comp)\n",
    " \n",
    "    if rev_comp == sequence[original_index+1]:\n",
    "        print(\"Checked\")\n",
    "        \n",
    "    print(\"-\"*100)\n",
    "    # test that your procedure given test_seq produces a\n",
    "    # reverse complement that is the same as given_rev_comp\n",
    "    "
   ]
  },
  {
   "cell_type": "markdown",
   "metadata": {},
   "source": [
    "## Optional: closer look at the test data structure and how we go through it.\n",
    "\n",
    "> Have a go at this if you have time.\n",
    "\n",
    "In part *(vi)* you were given test data in the form:\n",
    "```\n",
    "test_seqs_and_rev_comp = [('A', 'T'), \n",
    "                          ('AG', 'CT'), \n",
    "                          ('TAT', 'ATA')]\n",
    "```\n",
    "You are familiar with the square brackets defining a Python list with each of\n",
    "the list being a pair of items: a test sequence and its complement.\n",
    "\n",
    "But you will notice the pair of items are not surrounded by normal brackets `()` rather than \n",
    "the square brackets `[]` used for lists. This defines them as a *tuple* rather than a *list*.\n",
    "\n",
    "A tuple list like a list but it is *immutable* meaning that once defined it cannot be altered - new items cannot be added, deleted or replaced:"
   ]
  },
  {
   "cell_type": "code",
   "execution_count": 1,
   "metadata": {},
   "outputs": [
    {
     "name": "stdout",
     "output_type": "stream",
     "text": [
      "accessing list and tuple is similar: \n",
      "my_list=  ['a', 'b', 'c', 'd']\n",
      "my_tuple= ('a', 'b', 'c', 'd')\n",
      "Notice above that when you print a list it has square brackets []\n",
      "Notice above that when you print a tuple it has round brackets ()\n",
      "you can access individual items: my_list[0] = a  my_tuple[-1] = d\n",
      "you can use the len function on both: len(my_list) = 4  len(my_tuple) = 4\n",
      "But you can alter lists:\n",
      "after appending a list item: my_list=  ['a', 'b', 'c', 'd', 'e']\n",
      "after replacing a list item: my_list=  ['a', 'b', 'c', 'd', 'replacement']\n",
      "after deleting list items:   my_list=  ['replacement']\n"
     ]
    }
   ],
   "source": [
    "# Instruction: run this cell to how tuples work\n",
    "my_list = ['a', 'b', 'c', 'd']\n",
    "my_tuple = ('a', 'b', 'c', 'd')\n",
    "print('accessing list and tuple is similar: ')\n",
    "print('my_list= ', my_list)\n",
    "print('my_tuple=', my_tuple)\n",
    "print('Notice above that when you print a list it has square brackets []')\n",
    "print('Notice above that when you print a tuple it has round brackets ()')\n",
    "print('you can access individual items:'\n",
    "      ' my_list[0] =', my_list[0], \n",
    "      ' my_tuple[-1] =', my_tuple[-1])\n",
    "print('you can use the len function on both:'\n",
    "      ' len(my_list) =', len(my_list), \n",
    "      ' len(my_tuple) =', len(my_tuple))\n",
    "print('But you can alter lists:')\n",
    "my_list.append('e') \n",
    "print('after appending a list item: my_list= ', my_list)\n",
    "my_list[-1] = 'replacement'\n",
    "print('after replacing a list item: my_list= ', my_list)\n",
    "del my_list[0:4]\n",
    "print('after deleting list items:   my_list= ', my_list)"
   ]
  },
  {
   "cell_type": "markdown",
   "metadata": {},
   "source": [
    "But with a tuple you cannot append items, or replace items, or delete items. \n",
    "Run the next three cells and you will see that if you try to do this then\n",
    "you get helpful exception messages."
   ]
  },
  {
   "cell_type": "code",
   "execution_count": 2,
   "metadata": {},
   "outputs": [
    {
     "ename": "AttributeError",
     "evalue": "'tuple' object has no attribute 'append'",
     "output_type": "error",
     "traceback": [
      "\u001b[1;31m---------------------------------------------------------------------------\u001b[0m",
      "\u001b[1;31mAttributeError\u001b[0m                            Traceback (most recent call last)",
      "\u001b[1;32m<ipython-input-2-efeed686ba6e>\u001b[0m in \u001b[0;36m<module>\u001b[1;34m\u001b[0m\n\u001b[0;32m      1\u001b[0m \u001b[1;31m# this cell will fail as you cannot append items to a tuple\u001b[0m\u001b[1;33m\u001b[0m\u001b[1;33m\u001b[0m\u001b[1;33m\u001b[0m\u001b[0m\n\u001b[1;32m----> 2\u001b[1;33m \u001b[0mmy_tuple\u001b[0m\u001b[1;33m.\u001b[0m\u001b[0mappend\u001b[0m\u001b[1;33m(\u001b[0m\u001b[1;34m'NOT ALLOWED'\u001b[0m\u001b[1;33m)\u001b[0m \u001b[1;31m# will fail!\u001b[0m\u001b[1;33m\u001b[0m\u001b[1;33m\u001b[0m\u001b[0m\n\u001b[0m",
      "\u001b[1;31mAttributeError\u001b[0m: 'tuple' object has no attribute 'append'"
     ]
    }
   ],
   "source": [
    "# this cell will fail as you cannot append items to a tuple\n",
    "my_tuple.append('NOT ALLOWED') # will fail!"
   ]
  },
  {
   "cell_type": "code",
   "execution_count": 3,
   "metadata": {},
   "outputs": [
    {
     "ename": "TypeError",
     "evalue": "'tuple' object does not support item assignment",
     "output_type": "error",
     "traceback": [
      "\u001b[1;31m---------------------------------------------------------------------------\u001b[0m",
      "\u001b[1;31mTypeError\u001b[0m                                 Traceback (most recent call last)",
      "\u001b[1;32m<ipython-input-3-c72fd39aaead>\u001b[0m in \u001b[0;36m<module>\u001b[1;34m\u001b[0m\n\u001b[0;32m      1\u001b[0m \u001b[1;31m# this cell will fail as you cannot replace items in a tuple\u001b[0m\u001b[1;33m\u001b[0m\u001b[1;33m\u001b[0m\u001b[1;33m\u001b[0m\u001b[0m\n\u001b[1;32m----> 2\u001b[1;33m \u001b[0mmy_tuple\u001b[0m\u001b[1;33m[\u001b[0m\u001b[1;33m-\u001b[0m\u001b[1;36m1\u001b[0m\u001b[1;33m]\u001b[0m \u001b[1;33m=\u001b[0m \u001b[1;34m'NOT ALLOWED'\u001b[0m \u001b[1;31m# will fail!\u001b[0m\u001b[1;33m\u001b[0m\u001b[1;33m\u001b[0m\u001b[0m\n\u001b[0m",
      "\u001b[1;31mTypeError\u001b[0m: 'tuple' object does not support item assignment"
     ]
    }
   ],
   "source": [
    "# this cell will fail as you cannot replace items in a tuple\n",
    "my_tuple[-1] = 'NOT ALLOWED' # will fail!"
   ]
  },
  {
   "cell_type": "code",
   "execution_count": 4,
   "metadata": {},
   "outputs": [
    {
     "ename": "TypeError",
     "evalue": "'tuple' object doesn't support item deletion",
     "output_type": "error",
     "traceback": [
      "\u001b[1;31m---------------------------------------------------------------------------\u001b[0m",
      "\u001b[1;31mTypeError\u001b[0m                                 Traceback (most recent call last)",
      "\u001b[1;32m<ipython-input-4-83a707cc3414>\u001b[0m in \u001b[0;36m<module>\u001b[1;34m\u001b[0m\n\u001b[0;32m      1\u001b[0m \u001b[1;31m# this cell will fail as you cannot append items to a tuple\u001b[0m\u001b[1;33m\u001b[0m\u001b[1;33m\u001b[0m\u001b[1;33m\u001b[0m\u001b[0m\n\u001b[1;32m----> 2\u001b[1;33m \u001b[1;32mdel\u001b[0m \u001b[0mmy_tuple\u001b[0m\u001b[1;33m[\u001b[0m\u001b[1;36m0\u001b[0m\u001b[1;33m]\u001b[0m \u001b[1;31m# will fail!\u001b[0m\u001b[1;33m\u001b[0m\u001b[1;33m\u001b[0m\u001b[0m\n\u001b[0m",
      "\u001b[1;31mTypeError\u001b[0m: 'tuple' object doesn't support item deletion"
     ]
    }
   ],
   "source": [
    "# this cell will fail as you cannot append items to a tuple\n",
    "del my_tuple[0] # will fail!"
   ]
  },
  {
   "cell_type": "markdown",
   "metadata": {},
   "source": [
    "So tuples are useful when you do not want to have a collection of things \n",
    "that should not be altered. For instance \n",
    "if you wanted to record a walking tour through Cambridge using a GPS it would\n",
    "make sense to store the latitude and longitude of each point on the route as\n",
    "a tuple. The points could then be stored as a list.\n",
    "\n",
    "For the tests we have decided to store a list of tuples:\n",
    "```\n",
    "test_data = [ (input_data, expected_output),\n",
    "              (input_data, expected_output),\n",
    "              (input_data, expected_output)\n",
    "            ]\n",
    "```\n",
    "each one of the tuples has an input and the expected output for this input.\n",
    "\n",
    "Lets suppose we had a new procedure to test that doubled an integer number and added 3 to it.\n",
    "Some test data for this could be:\n",
    "\n",
    "| input_data *n* | expected_output *2n+3* |\n",
    "| :-------: | :-------------: |\n",
    "| 0 | 3 |\n",
    "| 1 | 5 |\n",
    "| -1 | 0 |\n",
    "| 10 | 23 |\n",
    "| -1.5 | 0 |\n",
    "\n",
    "Create a `test_data` list containing tuples with the input and expected output for the *2n+3* procedure"
   ]
  },
  {
   "cell_type": "code",
   "execution_count": 5,
   "metadata": {},
   "outputs": [],
   "source": [
    "# Instruction: create test_data list\n",
    "test_data = [(0, 3),(1, 5),(-1, 0),(10, 23),(-1.5, 0)]"
   ]
  },
  {
   "cell_type": "markdown",
   "metadata": {},
   "source": [
    "To iterate through the `test_data`list we can take the same approach as for any list. \n",
    "Lets demonstrate with some other data:"
   ]
  },
  {
   "cell_type": "code",
   "execution_count": 6,
   "metadata": {},
   "outputs": [
    {
     "name": "stdout",
     "output_type": "stream",
     "text": [
      "item:  ('a', 'A')\n",
      "item:  ('cat', 'Cat')\n",
      "item:  ('the rain.', 'The rain.')\n",
      "item:  ('DOG', 'DOG')\n"
     ]
    }
   ],
   "source": [
    "# Instruction: demonstrate for loop going through a list of tuples for test_data\n",
    "my_test_data = [('a', 'A'),\n",
    "                ('cat', 'Cat'),\n",
    "                ('the rain.', 'The rain.' ),\n",
    "                ('DOG', 'DOG')]  # test data for a capitalize procedure\n",
    "for item in my_test_data:\n",
    "    print('item: ', item)"
   ]
  },
  {
   "cell_type": "markdown",
   "metadata": {},
   "source": [
    "Notice that each `item` is a tuple. We could unpack this:"
   ]
  },
  {
   "cell_type": "code",
   "execution_count": 7,
   "metadata": {},
   "outputs": [
    {
     "name": "stdout",
     "output_type": "stream",
     "text": [
      "input_data: a expected_output: A\n",
      "input_data: cat expected_output: Cat\n",
      "input_data: the rain. expected_output: The rain.\n",
      "input_data: DOG expected_output: DOG\n"
     ]
    }
   ],
   "source": [
    "# Instruction: run the cell to demonstrate unpacking the test_data\n",
    "my_test_data = [('a', 'A'),\n",
    "                ('cat', 'Cat'),\n",
    "                ('the rain.', 'The rain.' ),\n",
    "                ('DOG', 'DOG')]  # test data for a capitalize procedure\n",
    "for item in my_test_data:\n",
    "    input_data = item[0]\n",
    "    expected_output = item[1]\n",
    "    print('input_data:', input_data, 'expected_output:', expected_output)"
   ]
  },
  {
   "cell_type": "markdown",
   "metadata": {},
   "source": [
    "But this can be simplified by avoiding creating an item variable:"
   ]
  },
  {
   "cell_type": "code",
   "execution_count": 8,
   "metadata": {},
   "outputs": [
    {
     "name": "stdout",
     "output_type": "stream",
     "text": [
      "input_data: a expected_output: A\n",
      "input_data: cat expected_output: Cat\n",
      "input_data: the rain. expected_output: The rain.\n",
      "input_data: DOG expected_output: DOG\n"
     ]
    }
   ],
   "source": [
    "# Instruction: run the cell to demonstrate simplification\n",
    "my_test_data = [('a', 'A'),\n",
    "                ('cat', 'Cat'),\n",
    "                ('the rain.', 'The rain.' ),\n",
    "                ('DOG', 'DOG')]  # test data for a capitalize procedure\n",
    "for input_data, expected_output in my_test_data:\n",
    "    print('input_data:', input_data, 'expected_output:', expected_output)"
   ]
  },
  {
   "cell_type": "markdown",
   "metadata": {},
   "source": [
    "This syntax `for` loop has been provided for you in part *(vi)* above.\n",
    "\n",
    "Now its your turn:\n",
    "\n",
    "Lets suppose we had a new procedure to test that doubled an integer number and added 3 to it.\n",
    "Some test data for this could be:\n",
    "\n",
    "| input_data *n* | expected_output *2n+3* |\n",
    "| :-------: | :-------------: |\n",
    "| 0 | 3 |\n",
    "| 1 | 5 |\n",
    "| -1 | 0 |\n",
    "| 10 | 23 |\n",
    "| -1.5 | 0 |\n",
    "\n",
    "create a test_data list of tuples and a for loop to go through and print the input_data and expected_data"
   ]
  },
  {
   "cell_type": "code",
   "execution_count": 10,
   "metadata": {},
   "outputs": [
    {
     "name": "stdout",
     "output_type": "stream",
     "text": [
      "Input_data: 0     Expected_output: 3\n",
      "Input_data: 1     Expected_output: 5\n",
      "Input_data: -1     Expected_output: 0\n",
      "Input_data: 10     Expected_output: 23\n",
      "Input_data: -1.5     Expected_output: 0\n"
     ]
    }
   ],
   "source": [
    "# Instruction: create a test_data list of tuples\n",
    "test_data = [(0, 3),(1, 5),(-1, 0),(10, 23),(-1.5, 0)]\n",
    "\n",
    "# a for loop to go through and print the input_data and expected_data\n",
    "for input_d, expected_o in test_data:\n",
    "    print(\"Input_data:\", input_d, (\" \"*3), \"Expected_output:\", expected_o)"
   ]
  },
  {
   "cell_type": "markdown",
   "metadata": {},
   "source": [
    "## Optional: Defining a reverse_complement function\n",
    "\n",
    "> Have a go at this **if you have time.**\n",
    "\n",
    "Although the approach used here is OK the final script mixes together the testing procedure,\n",
    "the code for the reverse complement and printing out the results. \n",
    "\n",
    "Suppose a colleague want to use you reverse complement procedure for their own sequence.\n",
    "It would require big adaptations to use the code we have so far - chopping out code.\n",
    "\n",
    "Instead it would be a much better idea if we could separate out the reverse complement procedure into a **function**.\n",
    "\n",
    "So far you have used a number of functions that are provided by Python. For instance:\n",
    "* to find out the length of a string you have used the `len()` function,\n",
    "* and to convert an integer floating number to a string you have have used `str()` function:"
   ]
  },
  {
   "cell_type": "code",
   "execution_count": 11,
   "metadata": {},
   "outputs": [
    {
     "name": "stdout",
     "output_type": "stream",
     "text": [
      "length of \"TAG\" is 3 characters\n"
     ]
    }
   ],
   "source": [
    "# Instruction: run this cell to see len and str function\n",
    "sequence = 'TAG'  \n",
    "seq_length = len(sequence)\n",
    "print('length of \"' + sequence + '\" is ' + str(seq_length) + ' characters')"
   ]
  },
  {
   "cell_type": "markdown",
   "metadata": {},
   "source": [
    "Using functions like this is convenient. Suppose we want to work out the reverse complement of a number of sequences. Wouldn't it be a great idea if we could simply call a function just like `len()` and this would supply the reverse complement. This function would:\n",
    "\n",
    "* given a string that is a DNA sequence - composed of A, T, G and C characters\n",
    "* find the reverse complement of the sequence. \n",
    "\n",
    "We could use the function in the same way as `len()`\n",
    "```\n",
    "sequence = 'TAG'\n",
    "rev_comp = reverse_complement(sequence)\n",
    "print(rev_comp)\n",
    "```\n",
    "In this example the print would produce `ATC` (for the input sequence `TAG`).\n",
    "\n",
    "This would have a number of advantages:\n",
    "\n",
    "* This would enable us to reuse the same code a number of times without having to copy and paste it time and time again.\n",
    "* Additionally if we decided to alter the procedure, for instance to allow the function to work with RNA sequences as well as DNA, we could change it in one place.\n",
    "* The function could be used by other people.\n",
    "\n",
    "We will see how you write a function in the next exercise. \n",
    "For now use this `reverse_complement(sequence)` function:"
   ]
  },
  {
   "cell_type": "code",
   "execution_count": 57,
   "metadata": {},
   "outputs": [],
   "source": [
    "# DEFINE reverse_complement function\n",
    "# Instruction: run this cell so that the kernel\n",
    "# registers the reverse_complement function\n",
    "def reverse_complement(sequence):\n",
    "    \"\"\"\n",
    "    For an input DNA sequence returns the reverse complement\n",
    "    The input DNA sequence must be a string made up solely of \n",
    "    A, T, G and C characters.\n",
    "    \n",
    "    Note: no error checking is done so results for strings with lower case letters\n",
    "    \"\"\"\n",
    "    complement = sequence\n",
    "    complement = complement.replace('A','t')\n",
    "    complement = complement.replace('T','a')\n",
    "    complement = complement.replace('G','c')\n",
    "    complement = complement.replace('C','g')\n",
    "    complement = complement.upper()\n",
    "    reverse_complement = complement[::-1]\n",
    "    return reverse_complement"
   ]
  },
  {
   "cell_type": "markdown",
   "metadata": {},
   "source": [
    "Once you have run the cell above the function can be used:"
   ]
  },
  {
   "cell_type": "code",
   "execution_count": 14,
   "metadata": {},
   "outputs": [
    {
     "name": "stdout",
     "output_type": "stream",
     "text": [
      "The reverse complement of A is T\n",
      "The reverse complement of TAG is CTA\n"
     ]
    }
   ],
   "source": [
    "# Instruction: run this cell to see how reverse_complement function can be used.\n",
    "# N.B. make sure you have run the cell above that starts  \n",
    "# with \"# DEFINE reverse_complement function\" before running this cell\n",
    "print('The reverse complement of A is' , reverse_complement('A'))\n",
    "print('The reverse complement of TAG is' , reverse_complement('TAG'))"
   ]
  },
  {
   "cell_type": "markdown",
   "metadata": {},
   "source": [
    "Can you adapt the test code below to test the `reverse_complement` function?"
   ]
  },
  {
   "cell_type": "code",
   "execution_count": 59,
   "metadata": {},
   "outputs": [
    {
     "name": "stdout",
     "output_type": "stream",
     "text": [
      "----------------------------------------------------------------------------------------------------\n",
      "Tested reverse: T\n",
      "Correct\n",
      "----------------------------------------------------------------------------------------------------\n",
      "Tested reverse: A\n",
      "Correct\n",
      "----------------------------------------------------------------------------------------------------\n",
      "Tested reverse: C\n",
      "Correct\n",
      "----------------------------------------------------------------------------------------------------\n",
      "Tested reverse: G\n",
      "Correct\n",
      "----------------------------------------------------------------------------------------------------\n",
      "Tested reverse: TT\n",
      "Correct\n",
      "----------------------------------------------------------------------------------------------------\n",
      "Tested reverse: AT\n",
      "Correct\n",
      "----------------------------------------------------------------------------------------------------\n",
      "Tested reverse: CT\n",
      "Correct\n",
      "----------------------------------------------------------------------------------------------------\n",
      "Tested reverse: GT\n",
      "Correct\n",
      "----------------------------------------------------------------------------------------------------\n",
      "Tested reverse: AAA\n",
      "Correct\n",
      "----------------------------------------------------------------------------------------------------\n",
      "Tested reverse: AAT\n",
      "Correct\n",
      "----------------------------------------------------------------------------------------------------\n",
      "Tested reverse: ATA\n",
      "Correct\n",
      "----------------------------------------------------------------------------------------------------\n",
      "Tested reverse: TAA\n",
      "Correct\n",
      "----------------------------------------------------------------------------------------------------\n",
      "Tested reverse: AAA\n",
      "Correct\n",
      "----------------------------------------------------------------------------------------------------\n",
      "Tested reverse: AAC\n",
      "Correct\n",
      "----------------------------------------------------------------------------------------------------\n",
      "Tested reverse: ACA\n",
      "Correct\n",
      "----------------------------------------------------------------------------------------------------\n",
      "Tested reverse: CAA\n",
      "Correct\n",
      "----------------------------------------------------------------------------------------------------\n",
      "Tested reverse: GCCAAATTTT\n",
      "Correct\n",
      "----------------------------------------------------------------------------------------------------\n",
      "Tested reverse: AAAATTTGGC\n",
      "Correct\n",
      "----------------------------------------------------------------------------------------------------\n",
      "Tested reverse: CAGCCTTTTATAGCAG\n",
      "Correct\n",
      "----------------------------------------------------------------------------------------------------\n",
      "Tested reverse: ACACACACACACACACACACACACACACACACACACACACACACACACACACACACACACACACACACACACACACACACACACACACACACACACACACACACACACACACACACACACACACACACACACACACACACACACACACACACACACACACACACACACACACACACACACACACACACACACACACACACTTTTTTTTTTTTTTTTTTTTTTTTTTTTTTTTTTTTTTTTTTTTTTTTTTTTTTTTTTTTTTTTTTTTTTTTTTTTTTTTTTTTTTTTTTTTTTTTTTTTTTTTTTTTTTTTTTTTTTTTTTTTTTTTTTTTTTTTTTTTTTTTTTTTTTTTTTTTTTTTTTTTTTTTTTTTTTTTTTTTTTTTTTTTTTTTTTTTTTTT\n",
      "Correct\n"
     ]
    }
   ],
   "source": [
    "# Instruction: test the reverse_complement function\n",
    "test_seqs_and_rev_comp = [('A', 'T'), \n",
    "                          ('T', 'A'), \n",
    "                          ('G', 'C'), \n",
    "                          ('C', 'G'), \n",
    "                          ('AA', 'TT'), \n",
    "                          ('AT', 'AT'), \n",
    "                          ('AG', 'CT'), \n",
    "                          ('AC', 'GT'), \n",
    "                          ('TTT', 'AAA'), \n",
    "                          ('ATT', 'AAT'), \n",
    "                          ('TAT', 'ATA'), \n",
    "                          ('TTA', 'TAA'), \n",
    "                          ('TTT', 'AAA'), \n",
    "                          ('GTT', 'AAC'), \n",
    "                          ('TGT', 'ACA'), \n",
    "                          ('TTG', 'CAA'), \n",
    "                          ('AAAATTTGGC', 'GCCAAATTTT'), \n",
    "                          ('GCCAAATTTT', 'AAAATTTGGC'), \n",
    "                          ('CTGCTATAAAAGGCTG', 'CAGCCTTTTATAGCAG'), \n",
    "                          ( 200*'A'+ 100*'GT', 100*'AC' + 200*'T')]\n",
    "for test_seq, given_rev_comp in test_seqs_and_rev_comp:\n",
    "    Tested_reverse = reverse_complement(test_seq)\n",
    "    print(\"-\"*100)\n",
    "    print(\"Tested reverse:\",Tested_reverse)\n",
    "    \n",
    "    if Tested_reverse == given_rev_comp:\n",
    "        print(\"Correct\")\n",
    "    # reverse complement that is the same as given_rev_comp    "
   ]
  },
  {
   "cell_type": "markdown",
   "metadata": {},
   "source": [
    "Can you define a function for your reverse_complement procedure call it `my_reverse_complement`? \n",
    "\n",
    "> *As you have not yet seen how to write functions (this will happen next week) this is asking alot*\n",
    "> *Do not worry if you cannot do this*"
   ]
  },
  {
   "cell_type": "code",
   "execution_count": 20,
   "metadata": {},
   "outputs": [],
   "source": [
    "# instructions your my_reverse_complement function in this cell?\n",
    "def my_reverse_complement(test_seqs_and_rev_comp):\n",
    "    for test_seq, given_rev_comp in test_seqs_and_rev_comp:\n",
    "        Tested_reverse = reverse_complement(test_seq)\n",
    "        print(\"Tested reverse:\",Tested_reverse)\n",
    "    \n",
    "        if Tested_reverse == given_rev_comp:\n",
    "            print(\"Correct\")\n",
    "            print(\" \")"
   ]
  },
  {
   "cell_type": "code",
   "execution_count": 22,
   "metadata": {},
   "outputs": [
    {
     "name": "stdout",
     "output_type": "stream",
     "text": [
      "Tested reverse: T\n",
      "Correct\n",
      " \n",
      "Tested reverse: A\n",
      "Correct\n",
      " \n",
      "Tested reverse: C\n",
      "Correct\n",
      " \n",
      "Tested reverse: G\n",
      "Correct\n",
      " \n",
      "Tested reverse: TT\n",
      "Correct\n",
      " \n",
      "Tested reverse: AT\n",
      "Correct\n",
      " \n",
      "Tested reverse: CT\n",
      "Correct\n",
      " \n",
      "Tested reverse: GT\n",
      "Correct\n",
      " \n",
      "Tested reverse: AAA\n",
      "Correct\n",
      " \n",
      "Tested reverse: AAT\n",
      "Correct\n",
      " \n",
      "Tested reverse: ATA\n",
      "Correct\n",
      " \n",
      "Tested reverse: TAA\n",
      "Correct\n",
      " \n",
      "Tested reverse: AAA\n",
      "Correct\n",
      " \n",
      "Tested reverse: AAC\n",
      "Correct\n",
      " \n",
      "Tested reverse: ACA\n",
      "Correct\n",
      " \n",
      "Tested reverse: CAA\n",
      "Correct\n",
      " \n",
      "Tested reverse: GCCAAATTTT\n",
      "Correct\n",
      " \n",
      "Tested reverse: AAAATTTGGC\n",
      "Correct\n",
      " \n",
      "Tested reverse: CAGCCTTTTATAGCAG\n",
      "Correct\n",
      " \n",
      "Tested reverse: ACACACACACACACACACACACACACACACACACACACACACACACACACACACACACACACACACACACACACACACACACACACACACACACACACACACACACACACACACACACACACACACACACACACACACACACACACACACACACACACACACACACACACACACACACACACACACACACACACACACACTTTTTTTTTTTTTTTTTTTTTTTTTTTTTTTTTTTTTTTTTTTTTTTTTTTTTTTTTTTTTTTTTTTTTTTTTTTTTTTTTTTTTTTTTTTTTTTTTTTTTTTTTTTTTTTTTTTTTTTTTTTTTTTTTTTTTTTTTTTTTTTTTTTTTTTTTTTTTTTTTTTTTTTTTTTTTTTTTTTTTTTTTTTTTTTTTTTTTTTT\n",
      "Correct\n",
      " \n"
     ]
    }
   ],
   "source": [
    "# test your my_reverse_complement function (a single case is fine.)\n",
    "my_reverse_complement(test_seqs_and_rev_comp)"
   ]
  },
  {
   "cell_type": "markdown",
   "metadata": {
    "collapsed": true
   },
   "source": [
    "> ### Reminder: saving your work\n",
    ">\n",
    "> As you work through the work book it is important to regularly save your work. Notice that as you have made  changes the Jupyter window top line will warn you there are `(unsaved changes)` in small text. To save your work in this notebook by either select menu item `File` `Save` or by hit the save button:\n",
    "> \n",
    "> ![Jupyter Notebook Save Button|](https://aru-bioinf-ibds.github.io./images/save_button.png)\n",
    ">\n",
    "> \n",
    "> ### Reminder: getting help \n",
    "> Please see the page:\n",
    "> [Help with programming](https://canvas.anglia.ac.uk/courses/12178/pages/help-with-programming)\n",
    "> on ARU Canvas."
   ]
  },
  {
   "cell_type": "markdown",
   "metadata": {},
   "source": [
    "## Once you have completed this homework, \n",
    "Please see ARU Canvas page\n",
    "[Reflection on Practical D: Conditional tests and loops](https://canvas.anglia.ac.uk/courses/12178/discussion_topics/108481)\n",
    "for the follow up."
   ]
  },
  {
   "cell_type": "code",
   "execution_count": null,
   "metadata": {},
   "outputs": [],
   "source": []
  }
 ],
 "metadata": {
  "kernelspec": {
   "display_name": "Python 3",
   "language": "python",
   "name": "python3"
  },
  "language_info": {
   "codemirror_mode": {
    "name": "ipython",
    "version": 3
   },
   "file_extension": ".py",
   "mimetype": "text/x-python",
   "name": "python",
   "nbconvert_exporter": "python",
   "pygments_lexer": "ipython3",
   "version": "3.8.8"
  }
 },
 "nbformat": 4,
 "nbformat_minor": 2
}
