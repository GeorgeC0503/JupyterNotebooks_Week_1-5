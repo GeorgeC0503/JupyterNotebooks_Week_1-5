{
 "cells": [
  {
   "cell_type": "markdown",
   "metadata": {
    "id": "fypRfHRGvbBT"
   },
   "source": [
    "# homework B: handling sequences in Python\n",
    "\n",
    "Make sure you have worked through the workbook_B first.\n",
    "\n",
    "## B1 Complementing DNA\n",
    "\n",
    "In the workbook we saw how double stranded DNA has two complementary strands<img src=\"https://upload.wikimedia.org/wikipedia/commons/e/e4/DNA_chemical_structure.svg\" \n",
    "align=\"left\" width=300> \n",
    "```\n",
    "\n",
    "\n",
    "\n",
    "```\n",
    "**Chemical Diagram of DNA**:  Showing two complimentary strands of 4 base pairs.\n",
    "[Image from Wikimedia Commons](https://commons.wikimedia.org/wiki/File:DNA_chemical_structure.svg) by Madeleine Price Ball, Licensed under [Creative Commons](https://en.wikipedia.org/wiki/en:Creative_Commons) [Attribution-Share Alike 3.0 Unported](https://creativecommons.org/licenses/by-sa/3.0/deed.en) license."
   ]
  },
  {
   "cell_type": "markdown",
   "metadata": {
    "collapsed": true,
    "id": "DmpLrkyZvbBl"
   },
   "source": [
    "The DNA sequence of the left hand strand is: ACTG. The complementary strand is found by replacing A with T, C with G, G with C and T with A:\n",
    "```\n",
    "left hand strand:     ACTG\n",
    "complementary strand: TGAC\n",
    "```\n",
    "Note that the complementary strand is listed from the 3' to the 5' end."
   ]
  },
  {
   "cell_type": "code",
   "execution_count": 9,
   "metadata": {
    "id": "Qh0432XkvbBn"
   },
   "outputs": [
    {
     "name": "stdout",
     "output_type": "stream",
     "text": [
      "TACG\n"
     ]
    }
   ],
   "source": [
    "# Instruction: write python code using to find the complementary \n",
    "# strand of dna from the dna variable and store it as complement. \n",
    "dna = 'ATGC'\n",
    "complement = \"\"\n",
    "\n",
    "for i in range (len(dna)):\n",
    "    if dna[i] == \"A\":\n",
    "        complement += \"T\" \n",
    "        \n",
    "    elif dna[i] == \"T\":\n",
    "        complement += \"A\" \n",
    "        \n",
    "    elif dna[i] == \"C\":\n",
    "        complement += \"G\" \n",
    "        \n",
    "    elif dna[i] == \"G\":\n",
    "        complement += \"C\" \n",
    "        \n",
    "    \n",
    "\n",
    "\n",
    "print(complement)\n",
    "# next line checks answer!\n",
    "assert complement == 'TACG', 'error complement not worked out correctly!'"
   ]
  },
  {
   "cell_type": "markdown",
   "metadata": {
    "id": "g-eThLHTvbBs"
   },
   "source": [
    "Now check you code works by considering the first part of the DNA sequence shown below:\n",
    "<img src=\"https://github.com/ARU-Bioinf-IBDS/prac-B/blob/master/images/Diagram_showing_a_double_helix_of_a_chromosome_CRUK_065_with_ends_marked.svg?raw=1\" width=200/>\n",
    "```\n",
    "\n",
    "\n",
    "```\n",
    "**The DNA double helix**.  [Wikimedia Commons SVG diagram](https://commons.wikimedia.org/wiki/File:Diagram_showing_a_double_helix_of_a_chromosome_CRUK_065.svg) by Cancer Research UK, Licensed under [Creative Commons](https://en.wikipedia.org/wiki/en:Creative_Commons) [Attribution-Share Alike 4.0 International](https://creativecommons.org/licenses/by-sa/4.0/deed.en) license."
   ]
  },
  {
   "cell_type": "code",
   "execution_count": 14,
   "metadata": {
    "id": "jFpEIuCavbBt"
   },
   "outputs": [
    {
     "name": "stdout",
     "output_type": "stream",
     "text": [
      "5' -AGTCGAC- 3'\n",
      "3' -TCAGCTG- 5'\n"
     ]
    }
   ],
   "source": [
    "dna = 'AGTCGAC'\n",
    "# Instruction: \n",
    "complement_by_hand = 'TCAGCTG'\n",
    "\n",
    "# Instruction: copy your python code for the complement here\n",
    "complement = \"\"\n",
    "for i in range (len(dna)):\n",
    "    if dna[i] == \"A\":\n",
    "        complement += \"T\" \n",
    "        \n",
    "    elif dna[i] == \"T\":\n",
    "        complement += \"A\" \n",
    "        \n",
    "    elif dna[i] == \"C\":\n",
    "        complement += \"G\" \n",
    "        \n",
    "    elif dna[i] == \"G\":\n",
    "        complement += \"C\" \n",
    "\n",
    "assert complement == complement_by_hand, 'error complement check fails!'\n",
    "\n",
    "print(\"5' -\"+str(dna)+\"- 3'\")\n",
    "print(\"3' -\"+str(complement)+\"- 5'\")\n",
    "\n",
    "\n"
   ]
  },
  {
   "cell_type": "markdown",
   "metadata": {
    "id": "KAoLXDcZvbBu"
   },
   "source": [
    "Now lets get fancy and print out the DNA strand and its complement showing it is complementary:\n",
    "\n",
    "For `dna = 'AGTCGAC'` we want a print out\n",
    "```\n",
    "5'-AGTCGAC-3'\n",
    "3'-TCAGCTA-5'\n",
    "```"
   ]
  },
  {
   "cell_type": "code",
   "execution_count": 13,
   "metadata": {
    "id": "wZdKTO6IvbBw"
   },
   "outputs": [
    {
     "name": "stdout",
     "output_type": "stream",
     "text": [
      "5' -AAACCCGGGTTTAGGATTCGGCTAGCT- 3'\n",
      "    |||||||||||||||||||||||||||     \n",
      "3' -TTTGGGCCCAAATCCTAAGCCGATCGA- 5'\n"
     ]
    }
   ],
   "source": [
    "dna = 'AAACCCGGGTTTAGGATTCGGCTAGCT'\n",
    "# Instruction: your code for complement\n",
    "# Instruction: copy your python code for the complement here\n",
    "complement = \"\"\n",
    "for i in range (len(dna)):\n",
    "    if dna[i] == \"A\":\n",
    "        complement += \"T\" \n",
    "        \n",
    "    elif dna[i] == \"T\":\n",
    "        complement += \"A\" \n",
    "        \n",
    "    elif dna[i] == \"C\":\n",
    "        complement += \"G\" \n",
    "        \n",
    "    elif dna[i] == \"G\":\n",
    "        complement += \"C\" \n",
    "    \n",
    "\n",
    "# Instruction: your code for the fancy print out\n",
    "print(\"5' -\"+str(dna)+\"- 3'\")\n",
    "print(\"    \"+ \"|\" * len(dna) +\"     \")\n",
    "print(\"3' -\"+str(complement)+\"- 5'\")"
   ]
  },
  {
   "cell_type": "markdown",
   "metadata": {
    "id": "1lLg-29pvbBz"
   },
   "source": [
    "Now lets get even fancier and add vertical bars to show the complementarity in the printout\n",
    "```\n",
    "5'-AGTCGAC-3'\n",
    "   |||||||\n",
    "3'-TCAGCTA-5'\n",
    "```"
   ]
  },
  {
   "cell_type": "code",
   "execution_count": 12,
   "metadata": {
    "id": "KlhCD26TvbB2"
   },
   "outputs": [
    {
     "name": "stdout",
     "output_type": "stream",
     "text": [
      "5' -AAAAAGGGGGCCCCCCCCCCTTTTTTT- 3'\n",
      "    |||||||||||||||||||||||||||     \n",
      "3' -TTTTTCCCCCGGGGGGGGGGAAAAAAA- 5'\n"
     ]
    }
   ],
   "source": [
    "dna = 'A'*5 + 'G'*5 + 'C'*10 + 'T'*7\n",
    "\n",
    "complement = \"\"\n",
    "for i in range (len(dna)):\n",
    "    if dna[i] == \"A\":\n",
    "        complement += \"T\" \n",
    "        \n",
    "    elif dna[i] == \"T\":\n",
    "        complement += \"A\" \n",
    "        \n",
    "    elif dna[i] == \"C\":\n",
    "        complement += \"G\" \n",
    "        \n",
    "    elif dna[i] == \"G\":\n",
    "        complement += \"C\" \n",
    "\n",
    "# Instruction: your code for the even fancier print out\n",
    "print(\"5' -\"+str(dna)+\"- 3'\")\n",
    "print(\"    \"+ \"|\" * len(dna) +\"     \")\n",
    "print(\"3' -\"+str(complement)+\"- 5'\")"
   ]
  },
  {
   "cell_type": "markdown",
   "metadata": {
    "id": "jXbm-7emvbB7"
   },
   "source": [
    "> Note we have not yet learnt how to reverse a string - this is coming next week in practical C.\n",
    "> Then you will be able to work out the reverse complement:\n",
    ">\n",
    "> `5'-ATCGACT-3'`\n",
    ">\n",
    "> Note that DNA sequences are always described 5' to 3' never the other way around!"
   ]
  },
  {
   "cell_type": "markdown",
   "metadata": {
    "id": "CdNeLUxhvbB9"
   },
   "source": [
    "## B2 Working out percentage base composition\n",
    "\n",
    "Write Python code to print out the percentage A, C, G and T in the sequence:\n",
    "\n",
    "`AAATTGCCCC`\n",
    "\n",
    "your code should print out a line\n",
    "\n",
    "`DNA sequence AATTGC has 30.0% A, 40.0% C, 20% G, 10.0% T.`"
   ]
  },
  {
   "cell_type": "code",
   "execution_count": 10,
   "metadata": {
    "id": "1bRtSwblvbB-"
   },
   "outputs": [
    {
     "name": "stdout",
     "output_type": "stream",
     "text": [
      "DNA sequence AAATTGCCCC has 30.0% A, 40.0% C, 10.0% G, 20.0% T.\n"
     ]
    }
   ],
   "source": [
    "dna = 'AAATTGCCCC'\n",
    "# your code here\n",
    "\n",
    "A_count = dna.count(\"A\")\n",
    "A_perc = (100*A_count/len(dna))\n",
    "\n",
    "T_count = dna.count(\"T\")\n",
    "T_perc = (100*T_count/len(dna))\n",
    "\n",
    "C_count = dna.count(\"C\")\n",
    "C_perc = (100*C_count/len(dna))\n",
    "\n",
    "G_count = dna.count(\"G\")\n",
    "G_perc = (100*G_count/len(dna))\n",
    "\n",
    "\n",
    "print(\"DNA sequence \"+ str(dna) +\" has \"+ str(A_perc) +\"% A, \" + str(C_perc) +\"% C, \" + str(G_perc) +\"% G, \" + str(T_perc) +\"% T.\")"
   ]
  },
  {
   "cell_type": "markdown",
   "metadata": {
    "id": "tPkeN6JjvbB_"
   },
   "source": [
    "Now print out the base composition of sequence dna2 (rounding figures to one decimal place):"
   ]
  },
  {
   "cell_type": "code",
   "execution_count": 11,
   "metadata": {
    "id": "pK-gBOyAvbCA"
   },
   "outputs": [
    {
     "name": "stdout",
     "output_type": "stream",
     "text": [
      "DNA sequence AAATTGCCCC has 30.0% A, 40.0% C, 10.0% G, 20.0% T.\n"
     ]
    }
   ],
   "source": [
    "dna2 = 10*'A' + 'G' + 4*'C'\n",
    "\n",
    "# your code here\n",
    "\n",
    "A_count = dna.count(\"A\")\n",
    "A_perc = (100*A_count/len(dna))\n",
    "\n",
    "T_count = dna.count(\"T\")\n",
    "T_perc = (100*T_count/len(dna))\n",
    "\n",
    "C_count = dna.count(\"C\")\n",
    "C_perc = (100*C_count/len(dna))\n",
    "\n",
    "G_count = dna.count(\"G\")\n",
    "G_perc = (100*G_count/len(dna))\n",
    "\n",
    "\n",
    "print(\"DNA sequence \"+ str(dna) +\" has \"+ str(A_perc) +\"% A, \" + str(C_perc) +\"% C, \" + str(G_perc) +\"% G, \" + str(T_perc) +\"% T.\")"
   ]
  },
  {
   "cell_type": "markdown",
   "metadata": {
    "id": "vHtWz3nRvbCB"
   },
   "source": [
    "> ### Reminder: saving your work\n",
    ">\n",
    "> As you work through the work book it is important to regularly save your work. Notice that as you have made  changes the Jupyter window top line will warn you there are `(unsaved changes)` in small text. To save your work in this notebook by either select menu item `File` `Save` or by hit the save button:\n",
    "> \n",
    "> <img src=\"https://github.com/ARU-Bioinf-IBDS/prac-B/blob/master/images/save_button.png?raw=1\"/>\n",
    ">\n",
    "> \n",
    "> ### Reminder: getting help \n",
    "> Please see the page:\n",
    "> [Help with programming](https://canvas.anglia.ac.uk/courses/12178/pages/help-with-programming)\n",
    "> on ARU Canvas."
   ]
  },
  {
   "cell_type": "markdown",
   "metadata": {
    "id": "W3A4vtHLvbCB"
   },
   "source": [
    "## Once you have completed this homework, \n",
    "Please see ARU Canvas page\n",
    "[Reflection on Practical B](https://canvas.anglia.ac.uk/courses/12178/discussion_topics/106245)\n",
    "for the follow up."
   ]
  },
  {
   "cell_type": "code",
   "execution_count": null,
   "metadata": {
    "collapsed": true,
    "id": "c3bTpDRVvbCC"
   },
   "outputs": [],
   "source": []
  }
 ],
 "metadata": {
  "colab": {
   "name": "homework_B.ipynb",
   "provenance": []
  },
  "kernelspec": {
   "display_name": "Python 3",
   "language": "python",
   "name": "python3"
  },
  "language_info": {
   "codemirror_mode": {
    "name": "ipython",
    "version": 3
   },
   "file_extension": ".py",
   "mimetype": "text/x-python",
   "name": "python",
   "nbconvert_exporter": "python",
   "pygments_lexer": "ipython3",
   "version": "3.8.8"
  }
 },
 "nbformat": 4,
 "nbformat_minor": 1
}
