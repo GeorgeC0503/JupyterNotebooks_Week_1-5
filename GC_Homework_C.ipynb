{
 "cells": [
  {
   "cell_type": "markdown",
   "metadata": {},
   "source": [
    "# homework C: lists and protein sequences\n",
    "\n",
    "Make sure you have worked through **workbook C** before tackling this homework."
   ]
  },
  {
   "cell_type": "markdown",
   "metadata": {},
   "source": [
    "##  protein sequences\n",
    "We have been working with nucleotide sequences. Now lets switch to proteins that are the things that do most of the work in biology. Proteins are polymers of amino acids joined by peptide bonds (you will learn alot about this in the course). There are twenty amino acid coded in genomes (ignore the Selenocysteine **U** for now): "
   ]
  },
  {
   "cell_type": "markdown",
   "metadata": {},
   "source": [
    "<img src=\"https://upload.wikimedia.org/wikipedia/commons/5/51/Molecular_structures_of_the_21_proteinogenic_amino_acids.svg\" width=500/>\n",
    "\n",
    "**Image By Dan Cojocari, used under [Creative Commons License](https://creativecommons.org/licenses/by-sa/3.0), from Wikimedia Commons**"
   ]
  },
  {
   "cell_type": "markdown",
   "metadata": {},
   "source": [
    "So to represent a protein sequence we need 20 letters rather than the 4 needed for DNA sequences. The one letter code for each amino acid is show in the red circle above, for example \"Arginine\" that has a side chain with a positive charge has the one letter code `R`."
   ]
  },
  {
   "cell_type": "code",
   "execution_count": 3,
   "metadata": {},
   "outputs": [],
   "source": [
    "# instruction: create lists of the one letter for amino acids of \n",
    "# different categories from figure above.\n",
    "aa_positive = ['R','H','K']\n",
    "aa_negative = ['D','E']\n",
    "aa_polar = ['S','T','N','Q']\n",
    "aa_special = ['C','U','G','P']\n",
    "aa_hydrophobic = ['A','I','L','M','F','W','Y','V']"
   ]
  },
  {
   "cell_type": "code",
   "execution_count": 4,
   "metadata": {},
   "outputs": [
    {
     "name": "stdout",
     "output_type": "stream",
     "text": [
      "negative amino acids: ['D', 'E']\n"
     ]
    }
   ],
   "source": [
    "# I have done the first one for you:\n",
    "# aa_negative: one letter codes for the two amino acids with side chains\n",
    "#               that are normally negatively charged.\n",
    "aa_negative = ['D', 'E']\n",
    "print('negative amino acids:', aa_negative)"
   ]
  },
  {
   "cell_type": "code",
   "execution_count": 5,
   "metadata": {},
   "outputs": [
    {
     "name": "stdout",
     "output_type": "stream",
     "text": [
      "positive amino acids: ['R', 'H', 'K']\n"
     ]
    }
   ],
   "source": [
    "# aa_positive: one letter codes for the 3 amino acids with side chains that\n",
    "#           that are normally positively charged.\n",
    "aa_positive = ['R','H','K']\n",
    "print('positive amino acids:', aa_positive)"
   ]
  },
  {
   "cell_type": "code",
   "execution_count": 6,
   "metadata": {},
   "outputs": [
    {
     "name": "stdout",
     "output_type": "stream",
     "text": [
      "polar amino acids: ['S', 'T', 'N', 'Q']\n"
     ]
    }
   ],
   "source": [
    "# aa_polar: one letter codes for the 4 amino acids with side chains that\n",
    "#           that are polar but not charged.\n",
    "aa_polar = []  # empty list\n",
    "# now use .append() to add the amino acids one at a time\n",
    "aa_polar.append('S')\n",
    "aa_polar.append('T')\n",
    "aa_polar.append('N')\n",
    "aa_polar.append('Q')\n",
    "print('polar amino acids:', aa_polar)"
   ]
  },
  {
   "cell_type": "code",
   "execution_count": 7,
   "metadata": {},
   "outputs": [
    {
     "name": "stdout",
     "output_type": "stream",
     "text": [
      "special amino acids: ['C', 'G', 'P']\n"
     ]
    }
   ],
   "source": [
    "# aa_special: one letter codes for the 3 amino acids with side chains that\n",
    "#             classified as special in figure - ignoring U.\n",
    "aa_special = ['C','G','P']\n",
    "print('special amino acids:', aa_special)"
   ]
  },
  {
   "cell_type": "code",
   "execution_count": 8,
   "metadata": {},
   "outputs": [
    {
     "name": "stdout",
     "output_type": "stream",
     "text": [
      "hydrophobic amino acids: ['A', 'I', 'L', 'M', 'F', 'W', 'Y', 'V']\n"
     ]
    }
   ],
   "source": [
    "# aa_hydrophobic: one letter codes for the 8 amino acids with side chains that\n",
    "#                 are hydrophobic.\n",
    "aa_hydrophobic = list('AILMFWYV')  # Note conversion of string to list.\n",
    "print('hydrophobic amino acids:', aa_hydrophobic)"
   ]
  },
  {
   "cell_type": "markdown",
   "metadata": {},
   "source": [
    "We now have five lists for the different classification of amino acids. There should be:\n",
    "* 2 amino acids with negatively charged side chains\n",
    "* 3 positive amino acids\n",
    "* 4 polar amino acids\n",
    "* 3 special amino acids\n",
    "* 8 hydrohobic amino acids\n",
    "Use the `len()` function to check the numbers in each list."
   ]
  },
  {
   "cell_type": "code",
   "execution_count": 16,
   "metadata": {},
   "outputs": [
    {
     "name": "stdout",
     "output_type": "stream",
     "text": [
      "Length (negative): 2\n",
      "Length (positive): 3\n",
      "Length (polar): 4\n",
      "Length (special): 3\n",
      "Length (hydrophobic): 8\n"
     ]
    }
   ],
   "source": [
    "# instruction: use len function to print out the number of each of the five lists.\n",
    "print(\"Length (negative): \"+ str(len(aa_negative)))\n",
    "print(\"Length (positive): \"+ str(len(aa_positive)))\n",
    "print(\"Length (polar): \"+ str(len(aa_polar)))\n",
    "print(\"Length (special): \"+ str(len(aa_special)))\n",
    "print(\"Length (hydrophobic): \"+ str(len(aa_hydrophobic)))"
   ]
  },
  {
   "cell_type": "markdown",
   "metadata": {},
   "source": [
    "Now create a list of the twenty coded amino acids **using the five lists you have just created**."
   ]
  },
  {
   "cell_type": "code",
   "execution_count": 18,
   "metadata": {},
   "outputs": [],
   "source": [
    "# instruction: create a list of one-letter-code for the twenty coded amino acids \n",
    "aa_all = aa_positive + aa_negative + aa_polar + aa_special +aa_hydrophobic"
   ]
  },
  {
   "cell_type": "code",
   "execution_count": 19,
   "metadata": {},
   "outputs": [
    {
     "name": "stdout",
     "output_type": "stream",
     "text": [
      "['R', 'H', 'K', 'D', 'E', 'S', 'T', 'N', 'Q', 'C', 'G', 'P', 'A', 'I', 'L', 'M', 'F', 'W', 'Y', 'V']\n"
     ]
    }
   ],
   "source": [
    "# instruction: print out the list of coded amino acids\n",
    "print(aa_all)"
   ]
  },
  {
   "cell_type": "code",
   "execution_count": 20,
   "metadata": {},
   "outputs": [
    {
     "name": "stdout",
     "output_type": "stream",
     "text": [
      "20\n"
     ]
    }
   ],
   "source": [
    "# now check the length of the list you have created is 20 \n",
    "print(len(aa_all))"
   ]
  },
  {
   "cell_type": "markdown",
   "metadata": {},
   "source": [
    "##  Working out the overall charge of a bee venom protein\n",
    "Apamin is a bee venom toxin.\n",
    "\n",
    "<img src='https://upload.wikimedia.org/wikipedia/commons/b/b2/Stamps_of_Romania%2C_2010-04.jpg' width=150 align=\"left\"/> \n",
    "```\n",
    "\n",
    "```\n",
    "*. Stamp featuring honey bee, by Post of Romania [Public domain], via Wikimedia Commons*"
   ]
  },
  {
   "cell_type": "markdown",
   "metadata": {},
   "source": [
    "that has the sequence (from https://www.uniprot.org/uniprot/P01500):\n",
    "```\n",
    "CNCKAPETALCARRCQQH\n",
    "```\n",
    "Strickly speaking it is too short to be called a protein and should be called a polypeptide.\n",
    "It is a neurotoxin that works by blocking one of the potassium ion channels."
   ]
  },
  {
   "cell_type": "markdown",
   "metadata": {},
   "source": [
    "## Working out the number of charged residues and the overall charge of a protein\n",
    "\n",
    "The number of charged residues and overall charge of a protein are important properties that can indicate its solubility and give some indication as to where it acts.\n",
    "\n",
    "At neutral pH the positively charged amino acids are:\n",
    "```\n",
    "R Arginine\n",
    "H Histidine\n",
    "K Lysine\n",
    "```\n",
    "the negatively charged amino acids are:\n",
    "```\n",
    "D Aspartic Acid\n",
    "E Glutamic Acids\n",
    "```\n",
    "\n",
    "So to work out the number of charged amino acid:\n",
    "\n",
    "$$\n",
    "N_{charged} = N_R + N_H + N_K + N_D + N_E\n",
    "$$\n",
    "\n",
    "Where `N_R` is the number of arginines (R) in the sequence.\n",
    "\n",
    "The overall charge is: \n",
    "\n",
    "$$\n",
    "Charge_{overall} = (N_R + N_H + N_K) - (N_D + N_E)\n",
    "$$\n",
    "\n",
    "Your task it to work out the number of charged amino acids and the overall charge of apamin. \n",
    "\n",
    "> \n",
    "> *Hint: look through exercise A to see how to **count** the number of occurences of a \n",
    "> particular  character in a string*\n",
    ">\n",
    "> *Hint: you can hard code amino acid one letter codes like 'R' or use the lists defined above*"
   ]
  },
  {
   "cell_type": "code",
   "execution_count": 35,
   "metadata": {},
   "outputs": [
    {
     "name": "stdout",
     "output_type": "stream",
     "text": [
      "Number charged: 6\n",
      "Total charge: 2\n"
     ]
    }
   ],
   "source": [
    "# first lets work on a shorter test sequence:\n",
    "sequence = 'RHKDER'\n",
    "\n",
    "# Instruction: your code to work n_charged\n",
    "\n",
    "n_charged = sequence.count('R') + sequence.count('H') + sequence.count('K') + sequence.count('D') + sequence.count('E') \n",
    "#adds up the charged aminos by counting the total number of each and adding the totals\n",
    "print(\"Number charged: \"  + str(n_charged))\n",
    "\n",
    "# Instruction: your code to work total_charge\n",
    "\n",
    "pos_count = sequence.count('R') + sequence.count('H') + sequence.count('K')\n",
    "#searches for only the postive aminos 'RHK' and adds their totals\n",
    "neg_count = sequence.count('D') + sequence.count('E')\n",
    "#searches for only the negative aminos 'DE' and adds their totals\n",
    "\n",
    "total_charge = pos_count - neg_count\n",
    "print(\"Total charge: \" + str(total_charge))\n",
    "\n",
    "assert n_charged == 6\n",
    "assert total_charge == 2"
   ]
  },
  {
   "cell_type": "markdown",
   "metadata": {},
   "source": [
    "Now apply your code to work out the number of charged residues and total charge of apamin."
   ]
  },
  {
   "cell_type": "code",
   "execution_count": 36,
   "metadata": {},
   "outputs": [
    {
     "name": "stdout",
     "output_type": "stream",
     "text": [
      "Number charged: 5\n",
      "Total charge: 3\n"
     ]
    }
   ],
   "source": [
    "sequence = 'CNCKAPETALCARRCQQH'  # apamin\n",
    "\n",
    "# Instruction: your code to work n_charged\n",
    "\n",
    "n_charged = sequence.count('R') + sequence.count('H') + sequence.count('K') + sequence.count('D') + sequence.count('E') \n",
    "#adds up the charged aminos by counting the total number of each and adding the totals\n",
    "\n",
    "# Instruction: your code to work total_charge\n",
    "\n",
    "pos_count = sequence.count('R') + sequence.count('H') + sequence.count('K')\n",
    "#searches for only the postive aminos 'RHK' and adds their totals\n",
    "neg_count = sequence.count('D') + sequence.count('E')\n",
    "#searches for only the negative aminos 'DE' and adds their totals\n",
    "\n",
    "total_charge = pos_count - neg_count\n",
    "\n",
    "# Instruction: print out the results\n",
    "\n",
    "print(\"Number charged: \"  + str(n_charged))\n",
    "print(\"Total charge: \" + str(total_charge))"
   ]
  },
  {
   "cell_type": "markdown",
   "metadata": {},
   "source": [
    "Question: is apamin basic (total charge positive) or acidic (total charge negative)?"
   ]
  },
  {
   "cell_type": "code",
   "execution_count": 37,
   "metadata": {},
   "outputs": [
    {
     "name": "stdout",
     "output_type": "stream",
     "text": [
      "basic\n"
     ]
    }
   ],
   "source": [
    "# Instruction: print out whether apamin is basic or acid\n",
    "if total_charge > 0:\n",
    "    print(\"basic\")\n",
    "    \n",
    "elif total_charge < 0:\n",
    "    print(\"acidic\")"
   ]
  },
  {
   "cell_type": "markdown",
   "metadata": {},
   "source": [
    "One of the folk remedies for treating bee stings is to rub with vingear (acetic acid). Is this justified?\n",
    "\n",
    "Really? Read:\n",
    "* https://www.insectstings.co.uk/bee-sting-acid-or-alkali/ and \n",
    "* https://www.nhs.uk/conditions/insect-bites-and-stings/ particularly the section \"Avoid traditional home remedies, such as vinegar and bicarbonate of soda, as they're unlikely to help.\".\n"
   ]
  },
  {
   "cell_type": "markdown",
   "metadata": {},
   "source": [
    "Now work out the percentage charged residues in apamin and print this reporting one decimal place."
   ]
  },
  {
   "cell_type": "code",
   "execution_count": null,
   "metadata": {
    "collapsed": true
   },
   "outputs": [],
   "source": [
    "# Instruction: print out the percentage charged residues \n",
    "# in apamin and print this reporting one decimal place."
   ]
  },
  {
   "cell_type": "markdown",
   "metadata": {
    "collapsed": true
   },
   "source": [
    "## reverse complement exercise\n",
    "\n",
    "> Have a go at this if you have time.\n",
    "\n",
    "In **homework B** we worked out how to find the complement of a DNA sequence:\n",
    "```\n",
    "5'-AAAATTTGGC-3'\n",
    "   ||||||||||\n",
    "3'-TTTTAAACCG-5'\n",
    "```\n",
    "The complement of the sequence `TTTTAAACCG` is shown at the bottom but this sequence is from the \n",
    "3'-end of the DNA strand so is backwards.\n",
    "\n",
    "DNA sequences are normally read from the 5'-end to the 3'-end. So the reverse compliment is found by\n",
    "1. finding the complement sequence by replacing A with T, T with A, C with G and G with C (remember the trick we used).\n",
    "2. Reversing the complement string using the technique shown in **workbook B**\n",
    "\n",
    "> compare your results with the oneline tool https://www.bioinformatics.org/sms/rev_comp.html"
   ]
  },
  {
   "cell_type": "code",
   "execution_count": 40,
   "metadata": {},
   "outputs": [
    {
     "name": "stdout",
     "output_type": "stream",
     "text": [
      "TC\n",
      "GA\n",
      "TTTTAAACCG\n",
      "CGGTTTAAAA\n",
      "GACGATATTTTCCGAC\n"
     ]
    }
   ],
   "source": [
    "# Instruction: produce a reverse compliment procedure\n",
    "# and use to find the reverse compliment of:\n",
    "# (a) AG\n",
    "# (b) CT\n",
    "# (c) AAAATTTGGC\n",
    "# (d) GCCAAATTTT\n",
    "# (e) CTGCTATAAAAGGCTG\n",
    "\n",
    "\n",
    "test_sequences = ['AG','CT','AAAATTTGGC','GCCAAATTTT','CTGCTATAAAAGGCTG']\n",
    "\n",
    "for j in range(len(test_sequences)):\n",
    "    complement = \"\"\n",
    "\n",
    "    for i in range (len(test_sequences[j])):\n",
    "        char = test_sequences[j][i]\n",
    "        if char == \"A\":\n",
    "            complement += \"T\" \n",
    "\n",
    "        elif char == \"T\":\n",
    "            complement += \"A\" \n",
    "\n",
    "        elif char == \"C\":\n",
    "            complement += \"G\" \n",
    "\n",
    "        elif char == \"G\":\n",
    "            complement += \"C\"\n",
    "            \n",
    "    \n",
    "    print(complement)\n",
    "\n",
    "    \n",
    "        \n",
    "    \n"
   ]
  },
  {
   "cell_type": "markdown",
   "metadata": {},
   "source": [
    "> ### Reminder: saving your work\n",
    ">\n",
    "> As you work through the work book it is important to regularly save your work. Notice that as you have made  changes the Jupyter window top line will warn you there are `(unsaved changes)` in small text. To save your work in this notebook by either select menu item `File` `Save` or by hit the save button:\n",
    "> \n",
    "> ![Jupyter Notebook Save Button|](https://aru-bioinf-ibds.github.io./images/save_button.png)\n",
    ">\n",
    "> \n",
    "> ### Reminder: getting help \n",
    "> Please see the page:\n",
    "> [Help with programming](https://canvas.anglia.ac.uk/courses/12178/pages/help-with-programming)\n",
    "> on ARU Canvas."
   ]
  },
  {
   "cell_type": "markdown",
   "metadata": {},
   "source": [
    "## Once you have completed this homework, \n",
    "Please see ARU Canvas page\n",
    "[Reflection on Practical C: lists and strings.](https://canvas.anglia.ac.uk/courses/12178/discussion_topics/107384)\n",
    "for the what do next *(note that link will only work for ARU students)."
   ]
  },
  {
   "cell_type": "code",
   "execution_count": null,
   "metadata": {},
   "outputs": [],
   "source": []
  }
 ],
 "metadata": {
  "kernelspec": {
   "display_name": "Python 3",
   "language": "python",
   "name": "python3"
  },
  "language_info": {
   "codemirror_mode": {
    "name": "ipython",
    "version": 3
   },
   "file_extension": ".py",
   "mimetype": "text/x-python",
   "name": "python",
   "nbconvert_exporter": "python",
   "pygments_lexer": "ipython3",
   "version": "3.8.8"
  }
 },
 "nbformat": 4,
 "nbformat_minor": 2
}
